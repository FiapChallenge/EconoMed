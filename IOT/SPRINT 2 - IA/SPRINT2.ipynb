{
  "cells": [
    {
      "cell_type": "markdown",
      "metadata": {
        "id": "YE6J7AG7-oZK"
      },
      "source": [
        "# **OBJETIVO 1 DA SOLUÇÃO ECONOMED*\n",
        "\n",
        "\n",
        "Do ponto de vista prático, utilizaremos uma base bastante conhecida contendo informações sobre os segurados (como idade, gênero, região de residência, entre outros).\n",
        "\n",
        "Esses atributos são comumente usados para prever os custos médicos de um segurado, o que pode ser útil para companhias de seguros na precificação de apólices ou na identificação de segmentos de clientes com diferentes perfis de risco.\n"
      ]
    },
    {
      "cell_type": "markdown",
      "metadata": {
        "id": "Jv6ogvvV-tJG"
      },
      "source": [
        "Esta base é composta pelos seguintes atributos:\n",
        "\n",
        "- age: Refere-se à idade do segurado, representada em anos.\n",
        "- sex: Indica o sexo do segurado, podendo ser 'male' ou 'female'.\n",
        "- bmi: Corresponde ao Índice de Massa Corporal (IMC) do segurado, uma medida que relaciona o peso e a altura da pessoa, geralmente expressa em kg/m².\n",
        "- children: Representa o número de filhos ou dependentes do segurado.\n",
        "- smoker: Indica se o segurado é fumante ou não, podendo ser 'yes' ou 'no'.\n",
        "-  region: Refere-se à região de residência do segurado, podendo ser 'northeast', 'northwest', 'southeast' ou 'southwest'.\n",
        "- expenses: Corresponde aos custos médicos do segurado, em dólares."
      ]
    },
    {
      "cell_type": "code",
      "execution_count": 27,
      "metadata": {
        "id": "wwQtSW_Q-7ar"
      },
      "outputs": [],
      "source": [
        "# Ignorar warnings\n",
        "import warnings\n",
        "warnings.filterwarnings(\"ignore\")\n",
        "\n",
        "# Bibliotecas para uso e visualização de dados\n",
        "import numpy as np\n",
        "import pandas as pd\n",
        "import seaborn as sns\n",
        "import matplotlib.pyplot as plt\n",
        "\n",
        "# Import para divisão dos dados de treino e teste\n",
        "from sklearn.model_selection import train_test_split\n",
        "\n",
        "# Imports para preparação de dados\n",
        "from sklearn.preprocessing import LabelEncoder\n",
        "from sklearn.preprocessing import StandardScaler\n",
        "from sklearn.preprocessing import MinMaxScaler\n",
        "\n",
        "\n",
        "# Import de modelo preditivo de regressão para comparar os resultados no final.\n",
        "from sklearn.linear_model import LinearRegression\n",
        "\n",
        "# Import de métricas para avaliação dos modelos\n",
        "from sklearn.metrics import mean_squared_error, mean_absolute_error, r2_score"
      ]
    },
    {
      "cell_type": "code",
      "execution_count": 28,
      "metadata": {
        "colab": {
          "base_uri": "https://localhost:8080/",
          "height": 206
        },
        "id": "0khK9Jh1_OCH",
        "outputId": "32a662ac-8b14-4b74-e5cd-5179c3c0c23c"
      },
      "outputs": [
        {
          "data": {
            "text/html": [
              "<div>\n",
              "<style scoped>\n",
              "    .dataframe tbody tr th:only-of-type {\n",
              "        vertical-align: middle;\n",
              "    }\n",
              "\n",
              "    .dataframe tbody tr th {\n",
              "        vertical-align: top;\n",
              "    }\n",
              "\n",
              "    .dataframe thead th {\n",
              "        text-align: right;\n",
              "    }\n",
              "</style>\n",
              "<table border=\"1\" class=\"dataframe\">\n",
              "  <thead>\n",
              "    <tr style=\"text-align: right;\">\n",
              "      <th></th>\n",
              "      <th>age</th>\n",
              "      <th>sex</th>\n",
              "      <th>bmi</th>\n",
              "      <th>children</th>\n",
              "      <th>smoker</th>\n",
              "      <th>region</th>\n",
              "      <th>expenses</th>\n",
              "    </tr>\n",
              "  </thead>\n",
              "  <tbody>\n",
              "    <tr>\n",
              "      <th>0</th>\n",
              "      <td>19</td>\n",
              "      <td>female</td>\n",
              "      <td>27.9</td>\n",
              "      <td>0</td>\n",
              "      <td>yes</td>\n",
              "      <td>southwest</td>\n",
              "      <td>16884.92</td>\n",
              "    </tr>\n",
              "    <tr>\n",
              "      <th>1</th>\n",
              "      <td>18</td>\n",
              "      <td>male</td>\n",
              "      <td>33.8</td>\n",
              "      <td>1</td>\n",
              "      <td>no</td>\n",
              "      <td>southeast</td>\n",
              "      <td>1725.55</td>\n",
              "    </tr>\n",
              "    <tr>\n",
              "      <th>2</th>\n",
              "      <td>28</td>\n",
              "      <td>male</td>\n",
              "      <td>33.0</td>\n",
              "      <td>3</td>\n",
              "      <td>no</td>\n",
              "      <td>southeast</td>\n",
              "      <td>4449.46</td>\n",
              "    </tr>\n",
              "    <tr>\n",
              "      <th>3</th>\n",
              "      <td>33</td>\n",
              "      <td>male</td>\n",
              "      <td>22.7</td>\n",
              "      <td>0</td>\n",
              "      <td>no</td>\n",
              "      <td>northwest</td>\n",
              "      <td>21984.47</td>\n",
              "    </tr>\n",
              "    <tr>\n",
              "      <th>4</th>\n",
              "      <td>32</td>\n",
              "      <td>male</td>\n",
              "      <td>28.9</td>\n",
              "      <td>0</td>\n",
              "      <td>no</td>\n",
              "      <td>northwest</td>\n",
              "      <td>3866.86</td>\n",
              "    </tr>\n",
              "  </tbody>\n",
              "</table>\n",
              "</div>"
            ],
            "text/plain": [
              "   age     sex   bmi  children smoker     region  expenses\n",
              "0   19  female  27.9         0    yes  southwest  16884.92\n",
              "1   18    male  33.8         1     no  southeast   1725.55\n",
              "2   28    male  33.0         3     no  southeast   4449.46\n",
              "3   33    male  22.7         0     no  northwest  21984.47\n",
              "4   32    male  28.9         0     no  northwest   3866.86"
            ]
          },
          "execution_count": 28,
          "metadata": {},
          "output_type": "execute_result"
        }
      ],
      "source": [
        "# Leitura do dataset\n",
        "df = pd.read_csv(\"./insurance.csv\")\n",
        "df.head(5)"
      ]
    },
    {
      "cell_type": "code",
      "execution_count": 29,
      "metadata": {
        "colab": {
          "base_uri": "https://localhost:8080/"
        },
        "id": "-XQcE_bH_ZSv",
        "outputId": "03d106d2-c8a2-4814-ffcc-b4c6df7e9fa9"
      },
      "outputs": [
        {
          "name": "stdout",
          "output_type": "stream",
          "text": [
            "<class 'pandas.core.frame.DataFrame'>\n",
            "RangeIndex: 1338 entries, 0 to 1337\n",
            "Data columns (total 7 columns):\n",
            " #   Column    Non-Null Count  Dtype  \n",
            "---  ------    --------------  -----  \n",
            " 0   age       1338 non-null   int64  \n",
            " 1   sex       1338 non-null   object \n",
            " 2   bmi       1338 non-null   float64\n",
            " 3   children  1338 non-null   int64  \n",
            " 4   smoker    1338 non-null   object \n",
            " 5   region    1338 non-null   object \n",
            " 6   expenses  1338 non-null   float64\n",
            "dtypes: float64(2), int64(2), object(3)\n",
            "memory usage: 73.3+ KB\n"
          ]
        }
      ],
      "source": [
        "# Quais os tipos? Dados faltantes?\n",
        "df.info()"
      ]
    },
    {
      "cell_type": "code",
      "execution_count": 30,
      "metadata": {
        "colab": {
          "base_uri": "https://localhost:8080/"
        },
        "id": "Ugr-Zwyx_e8Q",
        "outputId": "67bdc9bd-21e9-4f1f-bb05-6fda086afada"
      },
      "outputs": [
        {
          "data": {
            "text/plain": [
              "age           47\n",
              "sex            2\n",
              "bmi          275\n",
              "children       6\n",
              "smoker         2\n",
              "region         4\n",
              "expenses    1337\n",
              "dtype: int64"
            ]
          },
          "execution_count": 30,
          "metadata": {},
          "output_type": "execute_result"
        }
      ],
      "source": [
        "# Quantos dados únicos\n",
        "df.nunique()"
      ]
    },
    {
      "cell_type": "code",
      "execution_count": 31,
      "metadata": {
        "colab": {
          "base_uri": "https://localhost:8080/"
        },
        "id": "QCcaFtSv_jJb",
        "outputId": "7d49be9a-b835-4e06-8577-4fda47b928a3"
      },
      "outputs": [
        {
          "data": {
            "text/plain": [
              "(1337, 7)"
            ]
          },
          "execution_count": 31,
          "metadata": {},
          "output_type": "execute_result"
        }
      ],
      "source": [
        "# Removendo duplicatas\n",
        "df.drop_duplicates(inplace=True)\n",
        "df.shape\n"
      ]
    },
    {
      "cell_type": "code",
      "execution_count": 32,
      "metadata": {
        "colab": {
          "base_uri": "https://localhost:8080/",
          "height": 424
        },
        "id": "-oa3YiEB_vti",
        "outputId": "ccc2a699-c707-4d56-a0be-307b84828c92"
      },
      "outputs": [
        {
          "data": {
            "text/html": [
              "<div>\n",
              "<style scoped>\n",
              "    .dataframe tbody tr th:only-of-type {\n",
              "        vertical-align: middle;\n",
              "    }\n",
              "\n",
              "    .dataframe tbody tr th {\n",
              "        vertical-align: top;\n",
              "    }\n",
              "\n",
              "    .dataframe thead th {\n",
              "        text-align: right;\n",
              "    }\n",
              "</style>\n",
              "<table border=\"1\" class=\"dataframe\">\n",
              "  <thead>\n",
              "    <tr style=\"text-align: right;\">\n",
              "      <th></th>\n",
              "      <th>age</th>\n",
              "      <th>bmi</th>\n",
              "      <th>children</th>\n",
              "      <th>expenses</th>\n",
              "      <th>genero</th>\n",
              "      <th>fumante</th>\n",
              "      <th>northwest</th>\n",
              "      <th>southeast</th>\n",
              "      <th>southwest</th>\n",
              "    </tr>\n",
              "  </thead>\n",
              "  <tbody>\n",
              "    <tr>\n",
              "      <th>0</th>\n",
              "      <td>19</td>\n",
              "      <td>27.9</td>\n",
              "      <td>0</td>\n",
              "      <td>16884.92</td>\n",
              "      <td>1</td>\n",
              "      <td>1</td>\n",
              "      <td>False</td>\n",
              "      <td>False</td>\n",
              "      <td>True</td>\n",
              "    </tr>\n",
              "    <tr>\n",
              "      <th>1</th>\n",
              "      <td>18</td>\n",
              "      <td>33.8</td>\n",
              "      <td>1</td>\n",
              "      <td>1725.55</td>\n",
              "      <td>0</td>\n",
              "      <td>0</td>\n",
              "      <td>False</td>\n",
              "      <td>True</td>\n",
              "      <td>False</td>\n",
              "    </tr>\n",
              "    <tr>\n",
              "      <th>2</th>\n",
              "      <td>28</td>\n",
              "      <td>33.0</td>\n",
              "      <td>3</td>\n",
              "      <td>4449.46</td>\n",
              "      <td>0</td>\n",
              "      <td>0</td>\n",
              "      <td>False</td>\n",
              "      <td>True</td>\n",
              "      <td>False</td>\n",
              "    </tr>\n",
              "    <tr>\n",
              "      <th>3</th>\n",
              "      <td>33</td>\n",
              "      <td>22.7</td>\n",
              "      <td>0</td>\n",
              "      <td>21984.47</td>\n",
              "      <td>0</td>\n",
              "      <td>0</td>\n",
              "      <td>True</td>\n",
              "      <td>False</td>\n",
              "      <td>False</td>\n",
              "    </tr>\n",
              "    <tr>\n",
              "      <th>4</th>\n",
              "      <td>32</td>\n",
              "      <td>28.9</td>\n",
              "      <td>0</td>\n",
              "      <td>3866.86</td>\n",
              "      <td>0</td>\n",
              "      <td>0</td>\n",
              "      <td>True</td>\n",
              "      <td>False</td>\n",
              "      <td>False</td>\n",
              "    </tr>\n",
              "    <tr>\n",
              "      <th>...</th>\n",
              "      <td>...</td>\n",
              "      <td>...</td>\n",
              "      <td>...</td>\n",
              "      <td>...</td>\n",
              "      <td>...</td>\n",
              "      <td>...</td>\n",
              "      <td>...</td>\n",
              "      <td>...</td>\n",
              "      <td>...</td>\n",
              "    </tr>\n",
              "    <tr>\n",
              "      <th>1333</th>\n",
              "      <td>50</td>\n",
              "      <td>31.0</td>\n",
              "      <td>3</td>\n",
              "      <td>10600.55</td>\n",
              "      <td>0</td>\n",
              "      <td>0</td>\n",
              "      <td>True</td>\n",
              "      <td>False</td>\n",
              "      <td>False</td>\n",
              "    </tr>\n",
              "    <tr>\n",
              "      <th>1334</th>\n",
              "      <td>18</td>\n",
              "      <td>31.9</td>\n",
              "      <td>0</td>\n",
              "      <td>2205.98</td>\n",
              "      <td>1</td>\n",
              "      <td>0</td>\n",
              "      <td>False</td>\n",
              "      <td>False</td>\n",
              "      <td>False</td>\n",
              "    </tr>\n",
              "    <tr>\n",
              "      <th>1335</th>\n",
              "      <td>18</td>\n",
              "      <td>36.9</td>\n",
              "      <td>0</td>\n",
              "      <td>1629.83</td>\n",
              "      <td>1</td>\n",
              "      <td>0</td>\n",
              "      <td>False</td>\n",
              "      <td>True</td>\n",
              "      <td>False</td>\n",
              "    </tr>\n",
              "    <tr>\n",
              "      <th>1336</th>\n",
              "      <td>21</td>\n",
              "      <td>25.8</td>\n",
              "      <td>0</td>\n",
              "      <td>2007.95</td>\n",
              "      <td>1</td>\n",
              "      <td>0</td>\n",
              "      <td>False</td>\n",
              "      <td>False</td>\n",
              "      <td>True</td>\n",
              "    </tr>\n",
              "    <tr>\n",
              "      <th>1337</th>\n",
              "      <td>61</td>\n",
              "      <td>29.1</td>\n",
              "      <td>0</td>\n",
              "      <td>29141.36</td>\n",
              "      <td>1</td>\n",
              "      <td>1</td>\n",
              "      <td>True</td>\n",
              "      <td>False</td>\n",
              "      <td>False</td>\n",
              "    </tr>\n",
              "  </tbody>\n",
              "</table>\n",
              "<p>1337 rows × 9 columns</p>\n",
              "</div>"
            ],
            "text/plain": [
              "      age   bmi  children  expenses  genero  fumante  northwest  southeast  \\\n",
              "0      19  27.9         0  16884.92       1        1      False      False   \n",
              "1      18  33.8         1   1725.55       0        0      False       True   \n",
              "2      28  33.0         3   4449.46       0        0      False       True   \n",
              "3      33  22.7         0  21984.47       0        0       True      False   \n",
              "4      32  28.9         0   3866.86       0        0       True      False   \n",
              "...   ...   ...       ...       ...     ...      ...        ...        ...   \n",
              "1333   50  31.0         3  10600.55       0        0       True      False   \n",
              "1334   18  31.9         0   2205.98       1        0      False      False   \n",
              "1335   18  36.9         0   1629.83       1        0      False       True   \n",
              "1336   21  25.8         0   2007.95       1        0      False      False   \n",
              "1337   61  29.1         0  29141.36       1        1       True      False   \n",
              "\n",
              "      southwest  \n",
              "0          True  \n",
              "1         False  \n",
              "2         False  \n",
              "3         False  \n",
              "4         False  \n",
              "...         ...  \n",
              "1333      False  \n",
              "1334      False  \n",
              "1335      False  \n",
              "1336       True  \n",
              "1337      False  \n",
              "\n",
              "[1337 rows x 9 columns]"
            ]
          },
          "execution_count": 32,
          "metadata": {},
          "output_type": "execute_result"
        }
      ],
      "source": [
        "# Convertendo dados \"string\" para \"números\"\n",
        "df[\"genero\"] = df[\"sex\"].apply( lambda x: 0 if x == \"male\" else 1 )\n",
        "df[\"fumante\"] = df[\"smoker\"].apply( lambda x: 1 if x == \"yes\" else 0 )\n",
        "\n",
        "# OneHotEncoder da coluna \"region\"\n",
        "aux = pd.get_dummies(df[\"region\"], drop_first=True)\n",
        "df_final = pd.concat([df, aux], axis=1)\n",
        "\n",
        "# Remover colunas que já foram processadas\n",
        "df_final.drop(columns=[\"sex\", \"smoker\", \"region\"], inplace=True)\n",
        "df_final"
      ]
    },
    {
      "cell_type": "code",
      "execution_count": 33,
      "metadata": {
        "id": "sHnBfIORACZb"
      },
      "outputs": [],
      "source": [
        "# Separação de DADOS e LABEL\n",
        "X = df_final.drop(columns=[\"expenses\"])\n",
        "y = df_final[\"expenses\"]\n",
        "\n",
        "# Dividindo dados para TREINO e TESTE\n",
        "X_train, X_test, y_train, y_test = train_test_split(\n",
        "    X,\n",
        "    y,\n",
        "    test_size=0.3,\n",
        "    random_state=42\n",
        ")\n",
        "\n",
        "# Padronização dos dados\n",
        "ss = StandardScaler()\n",
        "X_train_scaled = ss.fit_transform(X_train)\n",
        "X_test_scaled = ss.transform(X_test)"
      ]
    },
    {
      "cell_type": "code",
      "execution_count": 34,
      "metadata": {
        "colab": {
          "base_uri": "https://localhost:8080/"
        },
        "id": "gfHaqdOfE6OM",
        "outputId": "ff593fb0-c85c-41a7-a05e-d560f3e511fc"
      },
      "outputs": [
        {
          "data": {
            "text/plain": [
              "(      age   bmi  children  genero  fumante  northwest  southeast  southwest\n",
              " 138    54  31.9         3       1        0      False       True      False\n",
              " 381    55  30.7         0       0        1      False      False      False\n",
              " 292    25  45.5         2       0        1      False       True      False\n",
              " 1090   47  36.2         0       0        1      False       True      False\n",
              " 893    47  38.9         2       0        1      False       True      False\n",
              " ...   ...   ...       ...     ...      ...        ...        ...        ...\n",
              " 1096   51  35.0         2       1        1      False      False      False\n",
              " 1131   27  45.9         2       0        0      False      False       True\n",
              " 1295   20  22.0         1       0        0      False      False       True\n",
              " 861    38  28.0         3       1        0      False      False       True\n",
              " 1127   35  35.9         2       1        0      False       True      False\n",
              " \n",
              " [935 rows x 8 columns],\n",
              " array([[ 1.07135822,  0.21232198,  1.59987002, ..., -0.57776193,\n",
              "          1.64630418, -0.57282196],\n",
              "        [ 1.14282796,  0.01300366, -0.90578906, ..., -0.57776193,\n",
              "         -0.60742116, -0.57282196],\n",
              "        [-1.00126436,  2.47126303,  0.76465033, ..., -0.57776193,\n",
              "          1.64630418, -0.57282196],\n",
              "        ...,\n",
              "        [-1.35861308, -1.43205422, -0.07056936, ..., -0.57776193,\n",
              "         -0.60742116,  1.74574312],\n",
              "        [-0.07215769, -0.43546258,  1.59987002, ..., -0.57776193,\n",
              "         -0.60742116,  1.74574312],\n",
              "        [-0.28656692,  0.87671641,  0.76465033, ..., -0.57776193,\n",
              "          1.64630418, -0.57282196]]))"
            ]
          },
          "execution_count": 34,
          "metadata": {},
          "output_type": "execute_result"
        }
      ],
      "source": [
        "X_train, X_train_scaled"
      ]
    },
    {
      "cell_type": "markdown",
      "metadata": {
        "id": "SwF8jVGyDnG1"
      },
      "source": [
        "Agora vamos treinar nossos dados, vamos fazer dois modelos:\n",
        "\n",
        "1.   modelo de regressão linear simples.\n",
        "2.   modelo de rede neural\n",
        "\n",
        "\n"
      ]
    },
    {
      "cell_type": "code",
      "execution_count": 35,
      "metadata": {
        "id": "uer4ULxxACvF"
      },
      "outputs": [],
      "source": [
        "# funçao para facilitar o calculo das métricas\n",
        "\n",
        "def metricas(X_tr_scaled, y_tr, y_ts, y_pr, model, id_modelo):\n",
        "  y_pr_tr = model.predict(X_tr_scaled)\n",
        "\n",
        "  # Erro quadrático médio\n",
        "  print(f\"MSE do TREINO ({id_modelo}): \", mean_squared_error(y_tr, y_pr_tr))\n",
        "  print(f\"MSE do TESTE  ({id_modelo}): \", mean_squared_error(y_ts, y_pr))\n",
        "\n",
        "  # Erro absoluto médio\n",
        "  print(f\"MAE do TREINO ({id_modelo}): \", mean_absolute_error(y_tr, y_pr_tr))\n",
        "  print(f\"MAE do TESTE  ({id_modelo}): \", mean_absolute_error(y_ts, y_pr))\n",
        "\n",
        "  # R²\n",
        "  print(f\"R² do TREINO ({id_modelo}): \", r2_score(y_tr, y_pr_tr))\n",
        "  print(f\"R² do TESTE  ({id_modelo}): \", r2_score(y_ts, y_pr))"
      ]
    },
    {
      "cell_type": "code",
      "execution_count": 36,
      "metadata": {
        "id": "_qnqsGBAACsW"
      },
      "outputs": [],
      "source": [
        "# Treinando o modelo usando sklearn\n",
        "model_lr = LinearRegression()\n",
        "model_lr.fit(X_train_scaled, y_train)\n",
        "\n",
        "# Fazendo as predições\n",
        "y_pred = model_lr.predict(X_test_scaled)"
      ]
    },
    {
      "cell_type": "code",
      "execution_count": 37,
      "metadata": {
        "colab": {
          "base_uri": "https://localhost:8080/"
        },
        "id": "WnMvo2viACyx",
        "outputId": "e1bee10c-a892-4d08-9d4f-f5362d192a6e"
      },
      "outputs": [
        {
          "name": "stdout",
          "output_type": "stream",
          "text": [
            "MSE do TREINO (Reg Linear):  35810116.96256572\n",
            "MSE do TESTE  (Reg Linear):  38939165.630002595\n",
            "MAE do TREINO (Reg Linear):  4165.7883312974745\n",
            "MAE do TESTE  (Reg Linear):  4181.631594223738\n",
            "R² do TREINO (Reg Linear):  0.7362844577541661\n",
            "R² do TESTE  (Reg Linear):  0.7724422253182589\n"
          ]
        }
      ],
      "source": [
        "# Metricas para regressão linear\n",
        "metricas(X_train_scaled, y_train, y_test, y_pred, model_lr, \"Reg Linear\")"
      ]
    },
    {
      "cell_type": "markdown",
      "metadata": {
        "id": "puVR2d4KBpP2"
      },
      "source": [
        "Vamos implementar um modelo de rede neural com Tensorflow\n",
        "\n",
        "- criar o modelo de rede neural\n",
        "- compilar o modelo\n",
        "- treinar o modelo\n",
        "\n",
        "\n",
        "\n",
        "\n"
      ]
    },
    {
      "cell_type": "code",
      "execution_count": 38,
      "metadata": {
        "colab": {
          "base_uri": "https://localhost:8080/"
        },
        "id": "7t2GhKGcBuV9",
        "outputId": "7c803a94-6927-44e1-de97-30b66e618f65"
      },
      "outputs": [
        {
          "name": "stdout",
          "output_type": "stream",
          "text": [
            "Epoch 1/100\n",
            "\u001b[1m24/24\u001b[0m \u001b[32m━━━━━━━━━━━━━━━━━━━━\u001b[0m\u001b[37m\u001b[0m \u001b[1m2s\u001b[0m 11ms/step - loss: 311531232.0000 - mae: 13127.0439 - val_loss: 293382016.0000 - val_mae: 12336.7471\n",
            "Epoch 2/100\n",
            "\u001b[1m24/24\u001b[0m \u001b[32m━━━━━━━━━━━━━━━━━━━━\u001b[0m\u001b[37m\u001b[0m \u001b[1m0s\u001b[0m 4ms/step - loss: 295169152.0000 - mae: 12704.5303 - val_loss: 242277136.0000 - val_mae: 10457.6045\n",
            "Epoch 3/100\n",
            "\u001b[1m24/24\u001b[0m \u001b[32m━━━━━━━━━━━━━━━━━━━━\u001b[0m\u001b[37m\u001b[0m \u001b[1m0s\u001b[0m 5ms/step - loss: 196846304.0000 - mae: 9523.5195 - val_loss: 77322176.0000 - val_mae: 6528.3057\n",
            "Epoch 4/100\n",
            "\u001b[1m24/24\u001b[0m \u001b[32m━━━━━━━━━━━━━━━━━━━━\u001b[0m\u001b[37m\u001b[0m \u001b[1m0s\u001b[0m 5ms/step - loss: 66521636.0000 - mae: 6967.7046 - val_loss: 50317872.0000 - val_mae: 5026.9697\n",
            "Epoch 5/100\n",
            "\u001b[1m24/24\u001b[0m \u001b[32m━━━━━━━━━━━━━━━━━━━━\u001b[0m\u001b[37m\u001b[0m \u001b[1m0s\u001b[0m 4ms/step - loss: 39637364.0000 - mae: 4481.5718 - val_loss: 38308020.0000 - val_mae: 4510.9653\n",
            "Epoch 6/100\n",
            "\u001b[1m24/24\u001b[0m \u001b[32m━━━━━━━━━━━━━━━━━━━━\u001b[0m\u001b[37m\u001b[0m \u001b[1m0s\u001b[0m 4ms/step - loss: 34071400.0000 - mae: 4279.4468 - val_loss: 35464420.0000 - val_mae: 4159.4917\n",
            "Epoch 7/100\n",
            "\u001b[1m24/24\u001b[0m \u001b[32m━━━━━━━━━━━━━━━━━━━━\u001b[0m\u001b[37m\u001b[0m \u001b[1m0s\u001b[0m 5ms/step - loss: 29039144.0000 - mae: 3855.3962 - val_loss: 34233148.0000 - val_mae: 3935.4890\n",
            "Epoch 8/100\n",
            "\u001b[1m24/24\u001b[0m \u001b[32m━━━━━━━━━━━━━━━━━━━━\u001b[0m\u001b[37m\u001b[0m \u001b[1m0s\u001b[0m 5ms/step - loss: 30137502.0000 - mae: 3774.8877 - val_loss: 33277142.0000 - val_mae: 3855.9792\n",
            "Epoch 9/100\n",
            "\u001b[1m24/24\u001b[0m \u001b[32m━━━━━━━━━━━━━━━━━━━━\u001b[0m\u001b[37m\u001b[0m \u001b[1m0s\u001b[0m 4ms/step - loss: 29448488.0000 - mae: 3794.6428 - val_loss: 32972460.0000 - val_mae: 3756.5208\n",
            "Epoch 10/100\n",
            "\u001b[1m24/24\u001b[0m \u001b[32m━━━━━━━━━━━━━━━━━━━━\u001b[0m\u001b[37m\u001b[0m \u001b[1m0s\u001b[0m 5ms/step - loss: 32253468.0000 - mae: 3869.3904 - val_loss: 32177692.0000 - val_mae: 3784.1824\n",
            "Epoch 11/100\n",
            "\u001b[1m24/24\u001b[0m \u001b[32m━━━━━━━━━━━━━━━━━━━━\u001b[0m\u001b[37m\u001b[0m \u001b[1m0s\u001b[0m 4ms/step - loss: 24492034.0000 - mae: 3393.5872 - val_loss: 31573830.0000 - val_mae: 3593.9058\n",
            "Epoch 12/100\n",
            "\u001b[1m24/24\u001b[0m \u001b[32m━━━━━━━━━━━━━━━━━━━━\u001b[0m\u001b[37m\u001b[0m \u001b[1m0s\u001b[0m 4ms/step - loss: 27094614.0000 - mae: 3407.6433 - val_loss: 31856182.0000 - val_mae: 3535.9602\n",
            "Epoch 13/100\n",
            "\u001b[1m24/24\u001b[0m \u001b[32m━━━━━━━━━━━━━━━━━━━━\u001b[0m\u001b[37m\u001b[0m \u001b[1m0s\u001b[0m 5ms/step - loss: 25576846.0000 - mae: 3337.4985 - val_loss: 30584898.0000 - val_mae: 3669.2615\n",
            "Epoch 14/100\n",
            "\u001b[1m24/24\u001b[0m \u001b[32m━━━━━━━━━━━━━━━━━━━━\u001b[0m\u001b[37m\u001b[0m \u001b[1m0s\u001b[0m 4ms/step - loss: 24485102.0000 - mae: 3325.0945 - val_loss: 31777420.0000 - val_mae: 3404.4861\n",
            "Epoch 15/100\n",
            "\u001b[1m24/24\u001b[0m \u001b[32m━━━━━━━━━━━━━━━━━━━━\u001b[0m\u001b[37m\u001b[0m \u001b[1m0s\u001b[0m 4ms/step - loss: 26621154.0000 - mae: 3398.1211 - val_loss: 31173298.0000 - val_mae: 3361.1655\n",
            "Epoch 16/100\n",
            "\u001b[1m24/24\u001b[0m \u001b[32m━━━━━━━━━━━━━━━━━━━━\u001b[0m\u001b[37m\u001b[0m \u001b[1m0s\u001b[0m 4ms/step - loss: 29121172.0000 - mae: 3408.7146 - val_loss: 29434066.0000 - val_mae: 3500.7847\n",
            "Epoch 17/100\n",
            "\u001b[1m24/24\u001b[0m \u001b[32m━━━━━━━━━━━━━━━━━━━━\u001b[0m\u001b[37m\u001b[0m \u001b[1m0s\u001b[0m 4ms/step - loss: 23704642.0000 - mae: 3163.6646 - val_loss: 29799320.0000 - val_mae: 3309.2488\n",
            "Epoch 18/100\n",
            "\u001b[1m24/24\u001b[0m \u001b[32m━━━━━━━━━━━━━━━━━━━━\u001b[0m\u001b[37m\u001b[0m \u001b[1m0s\u001b[0m 5ms/step - loss: 26066732.0000 - mae: 3292.8467 - val_loss: 29285426.0000 - val_mae: 3287.6838\n",
            "Epoch 19/100\n",
            "\u001b[1m24/24\u001b[0m \u001b[32m━━━━━━━━━━━━━━━━━━━━\u001b[0m\u001b[37m\u001b[0m \u001b[1m0s\u001b[0m 4ms/step - loss: 26441348.0000 - mae: 3178.7432 - val_loss: 28384990.0000 - val_mae: 3338.2036\n",
            "Epoch 20/100\n",
            "\u001b[1m24/24\u001b[0m \u001b[32m━━━━━━━━━━━━━━━━━━━━\u001b[0m\u001b[37m\u001b[0m \u001b[1m0s\u001b[0m 4ms/step - loss: 22615582.0000 - mae: 3072.6714 - val_loss: 27861146.0000 - val_mae: 3348.6289\n",
            "Epoch 21/100\n",
            "\u001b[1m24/24\u001b[0m \u001b[32m━━━━━━━━━━━━━━━━━━━━\u001b[0m\u001b[37m\u001b[0m \u001b[1m0s\u001b[0m 4ms/step - loss: 25888256.0000 - mae: 3280.0786 - val_loss: 27974206.0000 - val_mae: 3185.4070\n",
            "Epoch 22/100\n",
            "\u001b[1m24/24\u001b[0m \u001b[32m━━━━━━━━━━━━━━━━━━━━\u001b[0m\u001b[37m\u001b[0m \u001b[1m0s\u001b[0m 6ms/step - loss: 29408686.0000 - mae: 3511.9182 - val_loss: 27691046.0000 - val_mae: 3184.6946\n",
            "Epoch 23/100\n",
            "\u001b[1m24/24\u001b[0m \u001b[32m━━━━━━━━━━━━━━━━━━━━\u001b[0m\u001b[37m\u001b[0m \u001b[1m0s\u001b[0m 4ms/step - loss: 23842900.0000 - mae: 2993.9485 - val_loss: 26692822.0000 - val_mae: 3222.5535\n",
            "Epoch 24/100\n",
            "\u001b[1m24/24\u001b[0m \u001b[32m━━━━━━━━━━━━━━━━━━━━\u001b[0m\u001b[37m\u001b[0m \u001b[1m0s\u001b[0m 4ms/step - loss: 22469798.0000 - mae: 3007.9614 - val_loss: 26349672.0000 - val_mae: 3229.8074\n",
            "Epoch 25/100\n",
            "\u001b[1m24/24\u001b[0m \u001b[32m━━━━━━━━━━━━━━━━━━━━\u001b[0m\u001b[37m\u001b[0m \u001b[1m0s\u001b[0m 4ms/step - loss: 25204452.0000 - mae: 3210.3730 - val_loss: 26079902.0000 - val_mae: 3285.6628\n",
            "Epoch 26/100\n",
            "\u001b[1m24/24\u001b[0m \u001b[32m━━━━━━━━━━━━━━━━━━━━\u001b[0m\u001b[37m\u001b[0m \u001b[1m0s\u001b[0m 4ms/step - loss: 24367204.0000 - mae: 3160.4683 - val_loss: 25681140.0000 - val_mae: 3161.8201\n",
            "Epoch 27/100\n",
            "\u001b[1m24/24\u001b[0m \u001b[32m━━━━━━━━━━━━━━━━━━━━\u001b[0m\u001b[37m\u001b[0m \u001b[1m0s\u001b[0m 4ms/step - loss: 24982254.0000 - mae: 3233.8523 - val_loss: 26753358.0000 - val_mae: 2924.0796\n",
            "Epoch 28/100\n",
            "\u001b[1m24/24\u001b[0m \u001b[32m━━━━━━━━━━━━━━━━━━━━\u001b[0m\u001b[37m\u001b[0m \u001b[1m0s\u001b[0m 4ms/step - loss: 23706992.0000 - mae: 2839.7874 - val_loss: 26147500.0000 - val_mae: 2965.3269\n",
            "Epoch 29/100\n",
            "\u001b[1m24/24\u001b[0m \u001b[32m━━━━━━━━━━━━━━━━━━━━\u001b[0m\u001b[37m\u001b[0m \u001b[1m0s\u001b[0m 4ms/step - loss: 24908522.0000 - mae: 3050.0649 - val_loss: 25487440.0000 - val_mae: 3040.2209\n",
            "Epoch 30/100\n",
            "\u001b[1m24/24\u001b[0m \u001b[32m━━━━━━━━━━━━━━━━━━━━\u001b[0m\u001b[37m\u001b[0m \u001b[1m0s\u001b[0m 4ms/step - loss: 23616618.0000 - mae: 2963.1594 - val_loss: 24849712.0000 - val_mae: 3162.9409\n",
            "Epoch 31/100\n",
            "\u001b[1m24/24\u001b[0m \u001b[32m━━━━━━━━━━━━━━━━━━━━\u001b[0m\u001b[37m\u001b[0m \u001b[1m0s\u001b[0m 4ms/step - loss: 23499964.0000 - mae: 3050.5120 - val_loss: 25088992.0000 - val_mae: 3053.8198\n",
            "Epoch 32/100\n",
            "\u001b[1m24/24\u001b[0m \u001b[32m━━━━━━━━━━━━━━━━━━━━\u001b[0m\u001b[37m\u001b[0m \u001b[1m0s\u001b[0m 4ms/step - loss: 19655874.0000 - mae: 2828.2822 - val_loss: 25197680.0000 - val_mae: 2820.3643\n",
            "Epoch 33/100\n",
            "\u001b[1m24/24\u001b[0m \u001b[32m━━━━━━━━━━━━━━━━━━━━\u001b[0m\u001b[37m\u001b[0m \u001b[1m0s\u001b[0m 4ms/step - loss: 23342876.0000 - mae: 2959.8225 - val_loss: 24594142.0000 - val_mae: 3081.4893\n",
            "Epoch 34/100\n",
            "\u001b[1m24/24\u001b[0m \u001b[32m━━━━━━━━━━━━━━━━━━━━\u001b[0m\u001b[37m\u001b[0m \u001b[1m0s\u001b[0m 4ms/step - loss: 23657980.0000 - mae: 3120.2058 - val_loss: 25466548.0000 - val_mae: 2798.3806\n",
            "Epoch 35/100\n",
            "\u001b[1m24/24\u001b[0m \u001b[32m━━━━━━━━━━━━━━━━━━━━\u001b[0m\u001b[37m\u001b[0m \u001b[1m0s\u001b[0m 4ms/step - loss: 21850752.0000 - mae: 2704.2620 - val_loss: 24003168.0000 - val_mae: 2987.2727\n",
            "Epoch 36/100\n",
            "\u001b[1m24/24\u001b[0m \u001b[32m━━━━━━━━━━━━━━━━━━━━\u001b[0m\u001b[37m\u001b[0m \u001b[1m0s\u001b[0m 4ms/step - loss: 22785186.0000 - mae: 2876.6184 - val_loss: 23913702.0000 - val_mae: 3242.3052\n",
            "Epoch 37/100\n",
            "\u001b[1m24/24\u001b[0m \u001b[32m━━━━━━━━━━━━━━━━━━━━\u001b[0m\u001b[37m\u001b[0m \u001b[1m0s\u001b[0m 4ms/step - loss: 21392936.0000 - mae: 2949.4712 - val_loss: 23389430.0000 - val_mae: 3022.3330\n",
            "Epoch 38/100\n",
            "\u001b[1m24/24\u001b[0m \u001b[32m━━━━━━━━━━━━━━━━━━━━\u001b[0m\u001b[37m\u001b[0m \u001b[1m0s\u001b[0m 4ms/step - loss: 22982182.0000 - mae: 3111.9495 - val_loss: 23691984.0000 - val_mae: 2847.3911\n",
            "Epoch 39/100\n",
            "\u001b[1m24/24\u001b[0m \u001b[32m━━━━━━━━━━━━━━━━━━━━\u001b[0m\u001b[37m\u001b[0m \u001b[1m0s\u001b[0m 5ms/step - loss: 23287332.0000 - mae: 2988.8403 - val_loss: 25800902.0000 - val_mae: 2632.2480\n",
            "Epoch 40/100\n",
            "\u001b[1m24/24\u001b[0m \u001b[32m━━━━━━━━━━━━━━━━━━━━\u001b[0m\u001b[37m\u001b[0m \u001b[1m0s\u001b[0m 4ms/step - loss: 22743508.0000 - mae: 2805.6436 - val_loss: 24036488.0000 - val_mae: 2749.6697\n",
            "Epoch 41/100\n",
            "\u001b[1m24/24\u001b[0m \u001b[32m━━━━━━━━━━━━━━━━━━━━\u001b[0m\u001b[37m\u001b[0m \u001b[1m0s\u001b[0m 4ms/step - loss: 21668316.0000 - mae: 2788.8965 - val_loss: 23225052.0000 - val_mae: 2743.3987\n",
            "Epoch 42/100\n",
            "\u001b[1m24/24\u001b[0m \u001b[32m━━━━━━━━━━━━━━━━━━━━\u001b[0m\u001b[37m\u001b[0m \u001b[1m0s\u001b[0m 4ms/step - loss: 16648852.0000 - mae: 2560.1948 - val_loss: 23128356.0000 - val_mae: 3070.2053\n",
            "Epoch 43/100\n",
            "\u001b[1m24/24\u001b[0m \u001b[32m━━━━━━━━━━━━━━━━━━━━\u001b[0m\u001b[37m\u001b[0m \u001b[1m0s\u001b[0m 5ms/step - loss: 21154876.0000 - mae: 2990.3379 - val_loss: 22868538.0000 - val_mae: 2895.4038\n",
            "Epoch 44/100\n",
            "\u001b[1m24/24\u001b[0m \u001b[32m━━━━━━━━━━━━━━━━━━━━\u001b[0m\u001b[37m\u001b[0m \u001b[1m0s\u001b[0m 4ms/step - loss: 16181799.0000 - mae: 2515.1084 - val_loss: 22861680.0000 - val_mae: 2937.2385\n",
            "Epoch 45/100\n",
            "\u001b[1m24/24\u001b[0m \u001b[32m━━━━━━━━━━━━━━━━━━━━\u001b[0m\u001b[37m\u001b[0m \u001b[1m0s\u001b[0m 4ms/step - loss: 20603490.0000 - mae: 2831.5759 - val_loss: 22862716.0000 - val_mae: 2753.8191\n",
            "Epoch 46/100\n",
            "\u001b[1m24/24\u001b[0m \u001b[32m━━━━━━━━━━━━━━━━━━━━\u001b[0m\u001b[37m\u001b[0m \u001b[1m0s\u001b[0m 4ms/step - loss: 20901598.0000 - mae: 2711.0925 - val_loss: 23080396.0000 - val_mae: 2686.7605\n",
            "Epoch 47/100\n",
            "\u001b[1m24/24\u001b[0m \u001b[32m━━━━━━━━━━━━━━━━━━━━\u001b[0m\u001b[37m\u001b[0m \u001b[1m0s\u001b[0m 4ms/step - loss: 18602264.0000 - mae: 2524.1316 - val_loss: 22466224.0000 - val_mae: 2855.5273\n",
            "Epoch 48/100\n",
            "\u001b[1m24/24\u001b[0m \u001b[32m━━━━━━━━━━━━━━━━━━━━\u001b[0m\u001b[37m\u001b[0m \u001b[1m0s\u001b[0m 4ms/step - loss: 20931238.0000 - mae: 2858.7554 - val_loss: 22405618.0000 - val_mae: 2760.0835\n",
            "Epoch 49/100\n",
            "\u001b[1m24/24\u001b[0m \u001b[32m━━━━━━━━━━━━━━━━━━━━\u001b[0m\u001b[37m\u001b[0m \u001b[1m0s\u001b[0m 4ms/step - loss: 20268762.0000 - mae: 2774.1077 - val_loss: 22566060.0000 - val_mae: 2676.9624\n",
            "Epoch 50/100\n",
            "\u001b[1m24/24\u001b[0m \u001b[32m━━━━━━━━━━━━━━━━━━━━\u001b[0m\u001b[37m\u001b[0m \u001b[1m0s\u001b[0m 4ms/step - loss: 22751508.0000 - mae: 2896.7454 - val_loss: 22642830.0000 - val_mae: 2613.5078\n",
            "Epoch 51/100\n",
            "\u001b[1m24/24\u001b[0m \u001b[32m━━━━━━━━━━━━━━━━━━━━\u001b[0m\u001b[37m\u001b[0m \u001b[1m0s\u001b[0m 6ms/step - loss: 17420962.0000 - mae: 2408.2178 - val_loss: 22435560.0000 - val_mae: 2956.6836\n",
            "Epoch 52/100\n",
            "\u001b[1m24/24\u001b[0m \u001b[32m━━━━━━━━━━━━━━━━━━━━\u001b[0m\u001b[37m\u001b[0m \u001b[1m0s\u001b[0m 4ms/step - loss: 18510942.0000 - mae: 2675.1948 - val_loss: 22329894.0000 - val_mae: 2884.5671\n",
            "Epoch 53/100\n",
            "\u001b[1m24/24\u001b[0m \u001b[32m━━━━━━━━━━━━━━━━━━━━\u001b[0m\u001b[37m\u001b[0m \u001b[1m0s\u001b[0m 4ms/step - loss: 22298490.0000 - mae: 2998.1570 - val_loss: 22600672.0000 - val_mae: 2683.6179\n",
            "Epoch 54/100\n",
            "\u001b[1m24/24\u001b[0m \u001b[32m━━━━━━━━━━━━━━━━━━━━\u001b[0m\u001b[37m\u001b[0m \u001b[1m0s\u001b[0m 4ms/step - loss: 20621888.0000 - mae: 2604.6714 - val_loss: 22238698.0000 - val_mae: 2612.4019\n",
            "Epoch 55/100\n",
            "\u001b[1m24/24\u001b[0m \u001b[32m━━━━━━━━━━━━━━━━━━━━\u001b[0m\u001b[37m\u001b[0m \u001b[1m0s\u001b[0m 4ms/step - loss: 22806274.0000 - mae: 2927.4238 - val_loss: 22258948.0000 - val_mae: 2597.2981\n",
            "Epoch 56/100\n",
            "\u001b[1m24/24\u001b[0m \u001b[32m━━━━━━━━━━━━━━━━━━━━\u001b[0m\u001b[37m\u001b[0m \u001b[1m0s\u001b[0m 4ms/step - loss: 20243588.0000 - mae: 2578.0251 - val_loss: 22083178.0000 - val_mae: 2699.6626\n",
            "Epoch 57/100\n",
            "\u001b[1m24/24\u001b[0m \u001b[32m━━━━━━━━━━━━━━━━━━━━\u001b[0m\u001b[37m\u001b[0m \u001b[1m0s\u001b[0m 4ms/step - loss: 17662366.0000 - mae: 2603.4734 - val_loss: 22220276.0000 - val_mae: 2759.2979\n",
            "Epoch 58/100\n",
            "\u001b[1m24/24\u001b[0m \u001b[32m━━━━━━━━━━━━━━━━━━━━\u001b[0m\u001b[37m\u001b[0m \u001b[1m0s\u001b[0m 4ms/step - loss: 22927276.0000 - mae: 3097.4236 - val_loss: 22656000.0000 - val_mae: 2654.2974\n",
            "Epoch 59/100\n",
            "\u001b[1m24/24\u001b[0m \u001b[32m━━━━━━━━━━━━━━━━━━━━\u001b[0m\u001b[37m\u001b[0m \u001b[1m0s\u001b[0m 5ms/step - loss: 19965462.0000 - mae: 2585.6897 - val_loss: 22223786.0000 - val_mae: 2622.6577\n",
            "Epoch 60/100\n",
            "\u001b[1m24/24\u001b[0m \u001b[32m━━━━━━━━━━━━━━━━━━━━\u001b[0m\u001b[37m\u001b[0m \u001b[1m0s\u001b[0m 4ms/step - loss: 20671130.0000 - mae: 2801.5947 - val_loss: 23066966.0000 - val_mae: 2615.9612\n",
            "Epoch 61/100\n",
            "\u001b[1m24/24\u001b[0m \u001b[32m━━━━━━━━━━━━━━━━━━━━\u001b[0m\u001b[37m\u001b[0m \u001b[1m0s\u001b[0m 4ms/step - loss: 18659590.0000 - mae: 2611.4033 - val_loss: 22582830.0000 - val_mae: 2627.7334\n",
            "Epoch 62/100\n",
            "\u001b[1m24/24\u001b[0m \u001b[32m━━━━━━━━━━━━━━━━━━━━\u001b[0m\u001b[37m\u001b[0m \u001b[1m0s\u001b[0m 4ms/step - loss: 19815402.0000 - mae: 2710.3586 - val_loss: 22269816.0000 - val_mae: 2734.6211\n",
            "Epoch 63/100\n",
            "\u001b[1m24/24\u001b[0m \u001b[32m━━━━━━━━━━━━━━━━━━━━\u001b[0m\u001b[37m\u001b[0m \u001b[1m0s\u001b[0m 4ms/step - loss: 18368920.0000 - mae: 2676.0203 - val_loss: 22439908.0000 - val_mae: 2663.8994\n",
            "Epoch 64/100\n",
            "\u001b[1m24/24\u001b[0m \u001b[32m━━━━━━━━━━━━━━━━━━━━\u001b[0m\u001b[37m\u001b[0m \u001b[1m0s\u001b[0m 4ms/step - loss: 18669564.0000 - mae: 2684.8462 - val_loss: 23218998.0000 - val_mae: 2589.6055\n",
            "Epoch 65/100\n",
            "\u001b[1m24/24\u001b[0m \u001b[32m━━━━━━━━━━━━━━━━━━━━\u001b[0m\u001b[37m\u001b[0m \u001b[1m0s\u001b[0m 4ms/step - loss: 20262064.0000 - mae: 2800.1912 - val_loss: 22203762.0000 - val_mae: 2587.8323\n",
            "Epoch 66/100\n",
            "\u001b[1m24/24\u001b[0m \u001b[32m━━━━━━━━━━━━━━━━━━━━\u001b[0m\u001b[37m\u001b[0m \u001b[1m0s\u001b[0m 4ms/step - loss: 18346592.0000 - mae: 2605.9119 - val_loss: 22517842.0000 - val_mae: 2620.0122\n",
            "Epoch 67/100\n",
            "\u001b[1m24/24\u001b[0m \u001b[32m━━━━━━━━━━━━━━━━━━━━\u001b[0m\u001b[37m\u001b[0m \u001b[1m0s\u001b[0m 4ms/step - loss: 20687152.0000 - mae: 2601.4731 - val_loss: 22207526.0000 - val_mae: 2794.1799\n",
            "Epoch 68/100\n",
            "\u001b[1m24/24\u001b[0m \u001b[32m━━━━━━━━━━━━━━━━━━━━\u001b[0m\u001b[37m\u001b[0m \u001b[1m0s\u001b[0m 5ms/step - loss: 19477202.0000 - mae: 2611.8850 - val_loss: 22654116.0000 - val_mae: 2556.2327\n",
            "Epoch 69/100\n",
            "\u001b[1m24/24\u001b[0m \u001b[32m━━━━━━━━━━━━━━━━━━━━\u001b[0m\u001b[37m\u001b[0m \u001b[1m0s\u001b[0m 4ms/step - loss: 16168952.0000 - mae: 2300.9534 - val_loss: 22465244.0000 - val_mae: 2620.1724\n",
            "Epoch 70/100\n",
            "\u001b[1m24/24\u001b[0m \u001b[32m━━━━━━━━━━━━━━━━━━━━\u001b[0m\u001b[37m\u001b[0m \u001b[1m0s\u001b[0m 4ms/step - loss: 19283424.0000 - mae: 2581.5664 - val_loss: 22300060.0000 - val_mae: 2766.0327\n",
            "Epoch 71/100\n",
            "\u001b[1m24/24\u001b[0m \u001b[32m━━━━━━━━━━━━━━━━━━━━\u001b[0m\u001b[37m\u001b[0m \u001b[1m0s\u001b[0m 4ms/step - loss: 16518561.0000 - mae: 2457.1370 - val_loss: 22242252.0000 - val_mae: 2622.2888\n",
            "Epoch 72/100\n",
            "\u001b[1m24/24\u001b[0m \u001b[32m━━━━━━━━━━━━━━━━━━━━\u001b[0m\u001b[37m\u001b[0m \u001b[1m0s\u001b[0m 4ms/step - loss: 17959332.0000 - mae: 2704.1230 - val_loss: 22339618.0000 - val_mae: 2763.0576\n",
            "Epoch 73/100\n",
            "\u001b[1m24/24\u001b[0m \u001b[32m━━━━━━━━━━━━━━━━━━━━\u001b[0m\u001b[37m\u001b[0m \u001b[1m0s\u001b[0m 4ms/step - loss: 18757140.0000 - mae: 2587.0171 - val_loss: 22212966.0000 - val_mae: 2703.8911\n",
            "Epoch 74/100\n",
            "\u001b[1m24/24\u001b[0m \u001b[32m━━━━━━━━━━━━━━━━━━━━\u001b[0m\u001b[37m\u001b[0m \u001b[1m0s\u001b[0m 5ms/step - loss: 18147668.0000 - mae: 2531.5667 - val_loss: 22582266.0000 - val_mae: 2525.7883\n",
            "Epoch 75/100\n",
            "\u001b[1m24/24\u001b[0m \u001b[32m━━━━━━━━━━━━━━━━━━━━\u001b[0m\u001b[37m\u001b[0m \u001b[1m0s\u001b[0m 4ms/step - loss: 20701760.0000 - mae: 2760.1240 - val_loss: 23427028.0000 - val_mae: 2636.0022\n",
            "Epoch 76/100\n",
            "\u001b[1m24/24\u001b[0m \u001b[32m━━━━━━━━━━━━━━━━━━━━\u001b[0m\u001b[37m\u001b[0m \u001b[1m0s\u001b[0m 4ms/step - loss: 16843366.0000 - mae: 2476.6853 - val_loss: 22669582.0000 - val_mae: 2575.6292\n",
            "Epoch 77/100\n",
            "\u001b[1m24/24\u001b[0m \u001b[32m━━━━━━━━━━━━━━━━━━━━\u001b[0m\u001b[37m\u001b[0m \u001b[1m0s\u001b[0m 4ms/step - loss: 17599948.0000 - mae: 2544.2698 - val_loss: 23050302.0000 - val_mae: 2567.6812\n",
            "Epoch 78/100\n",
            "\u001b[1m24/24\u001b[0m \u001b[32m━━━━━━━━━━━━━━━━━━━━\u001b[0m\u001b[37m\u001b[0m \u001b[1m0s\u001b[0m 5ms/step - loss: 18750782.0000 - mae: 2539.0186 - val_loss: 24467122.0000 - val_mae: 2629.6440\n",
            "Epoch 79/100\n",
            "\u001b[1m24/24\u001b[0m \u001b[32m━━━━━━━━━━━━━━━━━━━━\u001b[0m\u001b[37m\u001b[0m \u001b[1m0s\u001b[0m 5ms/step - loss: 19352654.0000 - mae: 2615.8794 - val_loss: 22943222.0000 - val_mae: 2591.6553\n",
            "Epoch 80/100\n",
            "\u001b[1m24/24\u001b[0m \u001b[32m━━━━━━━━━━━━━━━━━━━━\u001b[0m\u001b[37m\u001b[0m \u001b[1m0s\u001b[0m 4ms/step - loss: 15983679.0000 - mae: 2458.6152 - val_loss: 22527524.0000 - val_mae: 2703.5830\n",
            "Epoch 81/100\n",
            "\u001b[1m24/24\u001b[0m \u001b[32m━━━━━━━━━━━━━━━━━━━━\u001b[0m\u001b[37m\u001b[0m \u001b[1m0s\u001b[0m 4ms/step - loss: 20878966.0000 - mae: 2822.7056 - val_loss: 23003538.0000 - val_mae: 2649.3298\n",
            "Epoch 82/100\n",
            "\u001b[1m24/24\u001b[0m \u001b[32m━━━━━━━━━━━━━━━━━━━━\u001b[0m\u001b[37m\u001b[0m \u001b[1m0s\u001b[0m 4ms/step - loss: 16456374.0000 - mae: 2422.5659 - val_loss: 22484334.0000 - val_mae: 2867.4546\n",
            "Epoch 83/100\n",
            "\u001b[1m24/24\u001b[0m \u001b[32m━━━━━━━━━━━━━━━━━━━━\u001b[0m\u001b[37m\u001b[0m \u001b[1m0s\u001b[0m 4ms/step - loss: 16951320.0000 - mae: 2627.0229 - val_loss: 22453980.0000 - val_mae: 2812.1941\n",
            "Epoch 84/100\n",
            "\u001b[1m24/24\u001b[0m \u001b[32m━━━━━━━━━━━━━━━━━━━━\u001b[0m\u001b[37m\u001b[0m \u001b[1m0s\u001b[0m 4ms/step - loss: 21250928.0000 - mae: 2913.2451 - val_loss: 22968222.0000 - val_mae: 2608.4231\n",
            "Epoch 85/100\n",
            "\u001b[1m24/24\u001b[0m \u001b[32m━━━━━━━━━━━━━━━━━━━━\u001b[0m\u001b[37m\u001b[0m \u001b[1m0s\u001b[0m 4ms/step - loss: 15749019.0000 - mae: 2295.3696 - val_loss: 22684584.0000 - val_mae: 2549.9919\n",
            "Epoch 86/100\n",
            "\u001b[1m24/24\u001b[0m \u001b[32m━━━━━━━━━━━━━━━━━━━━\u001b[0m\u001b[37m\u001b[0m \u001b[1m0s\u001b[0m 4ms/step - loss: 15924615.0000 - mae: 2386.3835 - val_loss: 22886944.0000 - val_mae: 2685.9504\n",
            "Epoch 87/100\n",
            "\u001b[1m24/24\u001b[0m \u001b[32m━━━━━━━━━━━━━━━━━━━━\u001b[0m\u001b[37m\u001b[0m \u001b[1m0s\u001b[0m 4ms/step - loss: 15424811.0000 - mae: 2509.8726 - val_loss: 23511528.0000 - val_mae: 2661.1284\n",
            "Epoch 88/100\n",
            "\u001b[1m24/24\u001b[0m \u001b[32m━━━━━━━━━━━━━━━━━━━━\u001b[0m\u001b[37m\u001b[0m \u001b[1m0s\u001b[0m 4ms/step - loss: 18365596.0000 - mae: 2636.3176 - val_loss: 22491094.0000 - val_mae: 2621.0029\n",
            "Epoch 89/100\n",
            "\u001b[1m24/24\u001b[0m \u001b[32m━━━━━━━━━━━━━━━━━━━━\u001b[0m\u001b[37m\u001b[0m \u001b[1m0s\u001b[0m 4ms/step - loss: 16940640.0000 - mae: 2324.9014 - val_loss: 22751990.0000 - val_mae: 2754.0920\n",
            "Epoch 90/100\n",
            "\u001b[1m24/24\u001b[0m \u001b[32m━━━━━━━━━━━━━━━━━━━━\u001b[0m\u001b[37m\u001b[0m \u001b[1m0s\u001b[0m 5ms/step - loss: 18728378.0000 - mae: 2681.6523 - val_loss: 22965884.0000 - val_mae: 2638.3765\n",
            "Epoch 91/100\n",
            "\u001b[1m24/24\u001b[0m \u001b[32m━━━━━━━━━━━━━━━━━━━━\u001b[0m\u001b[37m\u001b[0m \u001b[1m0s\u001b[0m 4ms/step - loss: 17376596.0000 - mae: 2471.0400 - val_loss: 22784576.0000 - val_mae: 2565.7058\n",
            "Epoch 92/100\n",
            "\u001b[1m24/24\u001b[0m \u001b[32m━━━━━━━━━━━━━━━━━━━━\u001b[0m\u001b[37m\u001b[0m \u001b[1m0s\u001b[0m 5ms/step - loss: 17606936.0000 - mae: 2551.0674 - val_loss: 22809204.0000 - val_mae: 2757.5525\n",
            "Epoch 93/100\n",
            "\u001b[1m24/24\u001b[0m \u001b[32m━━━━━━━━━━━━━━━━━━━━\u001b[0m\u001b[37m\u001b[0m \u001b[1m0s\u001b[0m 4ms/step - loss: 18626090.0000 - mae: 2656.3455 - val_loss: 23506692.0000 - val_mae: 2584.9299\n",
            "Epoch 94/100\n",
            "\u001b[1m24/24\u001b[0m \u001b[32m━━━━━━━━━━━━━━━━━━━━\u001b[0m\u001b[37m\u001b[0m \u001b[1m0s\u001b[0m 4ms/step - loss: 15299750.0000 - mae: 2243.4199 - val_loss: 23081222.0000 - val_mae: 2665.2495\n",
            "Epoch 95/100\n",
            "\u001b[1m24/24\u001b[0m \u001b[32m━━━━━━━━━━━━━━━━━━━━\u001b[0m\u001b[37m\u001b[0m \u001b[1m0s\u001b[0m 4ms/step - loss: 17305872.0000 - mae: 2544.4231 - val_loss: 22743762.0000 - val_mae: 2532.8987\n",
            "Epoch 96/100\n",
            "\u001b[1m24/24\u001b[0m \u001b[32m━━━━━━━━━━━━━━━━━━━━\u001b[0m\u001b[37m\u001b[0m \u001b[1m0s\u001b[0m 5ms/step - loss: 15649272.0000 - mae: 2395.1995 - val_loss: 23021002.0000 - val_mae: 2801.7383\n",
            "Epoch 97/100\n",
            "\u001b[1m24/24\u001b[0m \u001b[32m━━━━━━━━━━━━━━━━━━━━\u001b[0m\u001b[37m\u001b[0m \u001b[1m0s\u001b[0m 4ms/step - loss: 14723163.0000 - mae: 2315.8201 - val_loss: 23013458.0000 - val_mae: 2621.6958\n",
            "Epoch 98/100\n",
            "\u001b[1m24/24\u001b[0m \u001b[32m━━━━━━━━━━━━━━━━━━━━\u001b[0m\u001b[37m\u001b[0m \u001b[1m0s\u001b[0m 4ms/step - loss: 18043236.0000 - mae: 2602.1289 - val_loss: 23163298.0000 - val_mae: 2604.8181\n",
            "Epoch 99/100\n",
            "\u001b[1m24/24\u001b[0m \u001b[32m━━━━━━━━━━━━━━━━━━━━\u001b[0m\u001b[37m\u001b[0m \u001b[1m0s\u001b[0m 4ms/step - loss: 17300600.0000 - mae: 2450.9958 - val_loss: 23235672.0000 - val_mae: 2679.1013\n",
            "Epoch 100/100\n",
            "\u001b[1m24/24\u001b[0m \u001b[32m━━━━━━━━━━━━━━━━━━━━\u001b[0m\u001b[37m\u001b[0m \u001b[1m0s\u001b[0m 5ms/step - loss: 17264784.0000 - mae: 2526.5063 - val_loss: 24045540.0000 - val_mae: 2471.9441\n",
            "\u001b[1m13/13\u001b[0m \u001b[32m━━━━━━━━━━━━━━━━━━━━\u001b[0m\u001b[37m\u001b[0m \u001b[1m0s\u001b[0m 5ms/step\n"
          ]
        }
      ],
      "source": [
        "import tensorflow as tf\n",
        "\n",
        "# Cria o modelo de rede neural\n",
        "# aqui devemos definir ao menos a quantidade de camadas, a quantidade de neuronios, o tipo de ativacao ...\n",
        "model_rn = tf.keras.models.Sequential([\n",
        "    tf.keras.layers.Dense(428, activation='relu', input_shape=[X_train_scaled.shape[1]]),\n",
        "    tf.keras.layers.Dense(364, activation='relu',),\n",
        "    tf.keras.layers.Dense(166, activation='relu',),\n",
        "     tf.keras.layers.Dense(66, activation='relu',),\n",
        "    tf.keras.layers.Dense(1)\n",
        "])\n",
        "\n",
        "# Compila o modelo\n",
        "model_rn.compile(optimizer='adam', loss='mean_squared_error', metrics=['mae'])\n",
        "\n",
        "# Treina o modelo\n",
        "historico_epochs = model_rn.fit(X_train_scaled, y_train, epochs=100, validation_split=0.2)\n",
        "\n",
        "# Fazendo as predições\n",
        "y_pr = model_rn.predict(X_test_scaled)"
      ]
    },
    {
      "cell_type": "code",
      "execution_count": 39,
      "metadata": {
        "colab": {
          "base_uri": "https://localhost:8080/",
          "height": 636
        },
        "id": "XNbG97hqDOkB",
        "outputId": "3c090bd5-b41a-4efb-d0ef-29aa6c891bb3"
      },
      "outputs": [
        {
          "name": "stdout",
          "output_type": "stream",
          "text": [
            "<class 'pandas.core.frame.DataFrame'>\n",
            "RangeIndex: 100 entries, 0 to 99\n",
            "Data columns (total 4 columns):\n",
            " #   Column    Non-Null Count  Dtype  \n",
            "---  ------    --------------  -----  \n",
            " 0   loss      100 non-null    float64\n",
            " 1   mae       100 non-null    float64\n",
            " 2   val_loss  100 non-null    float64\n",
            " 3   val_mae   100 non-null    float64\n",
            "dtypes: float64(4)\n",
            "memory usage: 3.3 KB\n"
          ]
        },
        {
          "data": {
            "image/png": "[encoded data removed]",
            "text/plain": [
              "<Figure size 640x480 with 1 Axes>"
            ]
          },
          "metadata": {},
          "output_type": "display_data"
        }
      ],
      "source": [
        "df_historico = pd.DataFrame(historico_epochs.history)\n",
        "df_historico.info()\n",
        "\n",
        "df_historico[['loss','val_loss']].plot()\n",
        "plt.show();\n"
      ]
    },
    {
      "cell_type": "code",
      "execution_count": 40,
      "metadata": {
        "colab": {
          "base_uri": "https://localhost:8080/"
        },
        "id": "PildkNoCCpOY",
        "outputId": "b0138297-67dc-410f-c7f7-7e4c07dfc12b"
      },
      "outputs": [
        {
          "name": "stdout",
          "output_type": "stream",
          "text": [
            "\u001b[1m30/30\u001b[0m \u001b[32m━━━━━━━━━━━━━━━━━━━━\u001b[0m\u001b[37m\u001b[0m \u001b[1m0s\u001b[0m 1ms/step \n",
            "MSE do TREINO (rede neural):  18464410.09564239\n",
            "MSE do TESTE  (rede neural):  25715434.83096802\n",
            "MAE do TREINO (rede neural):  2300.8381209423046\n",
            "MAE do TESTE  (rede neural):  2648.531518846199\n",
            "R² do TREINO (rede neural):  0.8640230098742212\n",
            "R² do TESTE  (rede neural):  0.8497207880438082\n"
          ]
        }
      ],
      "source": [
        "# Metricas para regressão linear\n",
        "metricas(X_train_scaled, y_train, y_test, y_pr, model_rn, \"rede neural\")"
      ]
    }
  ],
  "metadata": {
    "colab": {
      "provenance": []
    },
    "kernelspec": {
      "display_name": "Python 3",
      "name": "python3"
    },
    "language_info": {
      "codemirror_mode": {
        "name": "ipython",
        "version": 3
      },
      "file_extension": ".py",
      "mimetype": "text/x-python",
      "name": "python",
      "nbconvert_exporter": "python",
      "pygments_lexer": "ipython3",
      "version": "3.11.8"
    }
  },
  "nbformat": 4,
  "nbformat_minor": 0
}
