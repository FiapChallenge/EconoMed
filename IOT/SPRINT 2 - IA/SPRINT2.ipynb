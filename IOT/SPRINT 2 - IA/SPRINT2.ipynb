{
  "cells": [
    {
      "cell_type": "markdown",
      "metadata": {
        "id": "YE6J7AG7-oZK"
      },
      "source": [
        "# **OBJETIVO 1 DA SOLUÇÃO ECONOMED**\n",
        "\n",
        "\n",
        "Do ponto de vista prático, utilizaremos uma base bastante conhecida contendo informações sobre os segurados (como idade, gênero, região de residência, entre outros).\n",
        "\n",
        "Esses atributos são comumente usados para prever os custos médicos de um segurado, o que pode ser útil para companhias de seguros na precificação de apólices ou na identificação de segmentos de clientes com diferentes perfis de risco.\n"
      ]
    },
    {
      "cell_type": "markdown",
      "metadata": {
        "id": "Jv6ogvvV-tJG"
      },
      "source": [
        "Esta base é composta pelos seguintes atributos:\n",
        "\n",
        "- age: Refere-se à idade do segurado, representada em anos.\n",
        "- sex: Indica o sexo do segurado, podendo ser 'male' ou 'female'.\n",
        "- bmi: Corresponde ao Índice de Massa Corporal (IMC) do segurado, uma medida que relaciona o peso e a altura da pessoa, geralmente expressa em kg/m².\n",
        "- children: Representa o número de filhos ou dependentes do segurado.\n",
        "- smoker: Indica se o segurado é fumante ou não, podendo ser 'yes' ou 'no'.\n",
        "-  region: Refere-se à região de residência do segurado, podendo ser 'northeast', 'northwest', 'southeast' ou 'southwest'.\n",
        "- expenses: Corresponde aos custos médicos do segurado, em dólares."
      ]
    },
    {
      "cell_type": "code",
      "execution_count": 17,
      "metadata": {
        "id": "wwQtSW_Q-7ar"
      },
      "outputs": [],
      "source": [
        "# Ignorar warnings\n",
        "import warnings\n",
        "warnings.filterwarnings(\"ignore\")\n",
        "\n",
        "# Bibliotecas para uso e visualização de dados\n",
        "import numpy as np\n",
        "import pandas as pd\n",
        "import seaborn as sns\n",
        "import matplotlib.pyplot as plt\n",
        "\n",
        "# Import para divisão dos dados de treino e teste\n",
        "from sklearn.model_selection import train_test_split\n",
        "\n",
        "# Imports para preparação de dados\n",
        "from sklearn.preprocessing import LabelEncoder\n",
        "from sklearn.preprocessing import StandardScaler\n",
        "from sklearn.preprocessing import MinMaxScaler\n",
        "\n",
        "\n",
        "# Import de modelo preditivo de regressão para comparar os resultados no final.\n",
        "from sklearn.linear_model import LinearRegression\n",
        "\n",
        "# Import de métricas para avaliação dos modelos\n",
        "from sklearn.metrics import mean_squared_error, mean_absolute_error, r2_score"
      ]
    },
    {
      "cell_type": "code",
      "execution_count": 18,
      "metadata": {
        "colab": {
          "base_uri": "https://localhost:8080/",
          "height": 206
        },
        "id": "0khK9Jh1_OCH",
        "outputId": "32a662ac-8b14-4b74-e5cd-5179c3c0c23c"
      },
      "outputs": [
        {
          "data": {
            "text/html": [
              "<div>\n",
              "<style scoped>\n",
              "    .dataframe tbody tr th:only-of-type {\n",
              "        vertical-align: middle;\n",
              "    }\n",
              "\n",
              "    .dataframe tbody tr th {\n",
              "        vertical-align: top;\n",
              "    }\n",
              "\n",
              "    .dataframe thead th {\n",
              "        text-align: right;\n",
              "    }\n",
              "</style>\n",
              "<table border=\"1\" class=\"dataframe\">\n",
              "  <thead>\n",
              "    <tr style=\"text-align: right;\">\n",
              "      <th></th>\n",
              "      <th>age</th>\n",
              "      <th>sex</th>\n",
              "      <th>bmi</th>\n",
              "      <th>children</th>\n",
              "      <th>smoker</th>\n",
              "      <th>region</th>\n",
              "      <th>expenses</th>\n",
              "    </tr>\n",
              "  </thead>\n",
              "  <tbody>\n",
              "    <tr>\n",
              "      <th>0</th>\n",
              "      <td>19</td>\n",
              "      <td>female</td>\n",
              "      <td>27.9</td>\n",
              "      <td>0</td>\n",
              "      <td>yes</td>\n",
              "      <td>southwest</td>\n",
              "      <td>16884.92</td>\n",
              "    </tr>\n",
              "    <tr>\n",
              "      <th>1</th>\n",
              "      <td>18</td>\n",
              "      <td>male</td>\n",
              "      <td>33.8</td>\n",
              "      <td>1</td>\n",
              "      <td>no</td>\n",
              "      <td>southeast</td>\n",
              "      <td>1725.55</td>\n",
              "    </tr>\n",
              "    <tr>\n",
              "      <th>2</th>\n",
              "      <td>28</td>\n",
              "      <td>male</td>\n",
              "      <td>33.0</td>\n",
              "      <td>3</td>\n",
              "      <td>no</td>\n",
              "      <td>southeast</td>\n",
              "      <td>4449.46</td>\n",
              "    </tr>\n",
              "    <tr>\n",
              "      <th>3</th>\n",
              "      <td>33</td>\n",
              "      <td>male</td>\n",
              "      <td>22.7</td>\n",
              "      <td>0</td>\n",
              "      <td>no</td>\n",
              "      <td>northwest</td>\n",
              "      <td>21984.47</td>\n",
              "    </tr>\n",
              "    <tr>\n",
              "      <th>4</th>\n",
              "      <td>32</td>\n",
              "      <td>male</td>\n",
              "      <td>28.9</td>\n",
              "      <td>0</td>\n",
              "      <td>no</td>\n",
              "      <td>northwest</td>\n",
              "      <td>3866.86</td>\n",
              "    </tr>\n",
              "  </tbody>\n",
              "</table>\n",
              "</div>"
            ],
            "text/plain": [
              "   age     sex   bmi  children smoker     region  expenses\n",
              "0   19  female  27.9         0    yes  southwest  16884.92\n",
              "1   18    male  33.8         1     no  southeast   1725.55\n",
              "2   28    male  33.0         3     no  southeast   4449.46\n",
              "3   33    male  22.7         0     no  northwest  21984.47\n",
              "4   32    male  28.9         0     no  northwest   3866.86"
            ]
          },
          "execution_count": 18,
          "metadata": {},
          "output_type": "execute_result"
        }
      ],
      "source": [
        "# Leitura do dataset\n",
        "df = pd.read_csv(\"./insurance.csv\")\n",
        "df.head(5)"
      ]
    },
    {
      "cell_type": "code",
      "execution_count": 19,
      "metadata": {
        "colab": {
          "base_uri": "https://localhost:8080/"
        },
        "id": "-XQcE_bH_ZSv",
        "outputId": "03d106d2-c8a2-4814-ffcc-b4c6df7e9fa9"
      },
      "outputs": [
        {
          "name": "stdout",
          "output_type": "stream",
          "text": [
            "<class 'pandas.core.frame.DataFrame'>\n",
            "RangeIndex: 1338 entries, 0 to 1337\n",
            "Data columns (total 7 columns):\n",
            " #   Column    Non-Null Count  Dtype  \n",
            "---  ------    --------------  -----  \n",
            " 0   age       1338 non-null   int64  \n",
            " 1   sex       1338 non-null   object \n",
            " 2   bmi       1338 non-null   float64\n",
            " 3   children  1338 non-null   int64  \n",
            " 4   smoker    1338 non-null   object \n",
            " 5   region    1338 non-null   object \n",
            " 6   expenses  1338 non-null   float64\n",
            "dtypes: float64(2), int64(2), object(3)\n",
            "memory usage: 73.3+ KB\n"
          ]
        }
      ],
      "source": [
        "# Quais os tipos? Dados faltantes?\n",
        "df.info()"
      ]
    },
    {
      "cell_type": "code",
      "execution_count": 20,
      "metadata": {
        "colab": {
          "base_uri": "https://localhost:8080/"
        },
        "id": "Ugr-Zwyx_e8Q",
        "outputId": "67bdc9bd-21e9-4f1f-bb05-6fda086afada"
      },
      "outputs": [
        {
          "data": {
            "text/plain": [
              "age           47\n",
              "sex            2\n",
              "bmi          275\n",
              "children       6\n",
              "smoker         2\n",
              "region         4\n",
              "expenses    1337\n",
              "dtype: int64"
            ]
          },
          "execution_count": 20,
          "metadata": {},
          "output_type": "execute_result"
        }
      ],
      "source": [
        "# Quantos dados únicos\n",
        "df.nunique()"
      ]
    },
    {
      "cell_type": "code",
      "execution_count": 21,
      "metadata": {
        "colab": {
          "base_uri": "https://localhost:8080/"
        },
        "id": "QCcaFtSv_jJb",
        "outputId": "7d49be9a-b835-4e06-8577-4fda47b928a3"
      },
      "outputs": [
        {
          "data": {
            "text/plain": [
              "(1337, 7)"
            ]
          },
          "execution_count": 21,
          "metadata": {},
          "output_type": "execute_result"
        }
      ],
      "source": [
        "# Removendo duplicatas\n",
        "df.drop_duplicates(inplace=True)\n",
        "df.shape\n"
      ]
    },
    {
      "cell_type": "code",
      "execution_count": 22,
      "metadata": {
        "colab": {
          "base_uri": "https://localhost:8080/",
          "height": 424
        },
        "id": "-oa3YiEB_vti",
        "outputId": "ccc2a699-c707-4d56-a0be-307b84828c92"
      },
      "outputs": [
        {
          "data": {
            "text/html": [
              "<div>\n",
              "<style scoped>\n",
              "    .dataframe tbody tr th:only-of-type {\n",
              "        vertical-align: middle;\n",
              "    }\n",
              "\n",
              "    .dataframe tbody tr th {\n",
              "        vertical-align: top;\n",
              "    }\n",
              "\n",
              "    .dataframe thead th {\n",
              "        text-align: right;\n",
              "    }\n",
              "</style>\n",
              "<table border=\"1\" class=\"dataframe\">\n",
              "  <thead>\n",
              "    <tr style=\"text-align: right;\">\n",
              "      <th></th>\n",
              "      <th>age</th>\n",
              "      <th>bmi</th>\n",
              "      <th>children</th>\n",
              "      <th>expenses</th>\n",
              "      <th>genero</th>\n",
              "      <th>fumante</th>\n",
              "      <th>northwest</th>\n",
              "      <th>southeast</th>\n",
              "      <th>southwest</th>\n",
              "    </tr>\n",
              "  </thead>\n",
              "  <tbody>\n",
              "    <tr>\n",
              "      <th>0</th>\n",
              "      <td>19</td>\n",
              "      <td>27.9</td>\n",
              "      <td>0</td>\n",
              "      <td>16884.92</td>\n",
              "      <td>1</td>\n",
              "      <td>1</td>\n",
              "      <td>False</td>\n",
              "      <td>False</td>\n",
              "      <td>True</td>\n",
              "    </tr>\n",
              "    <tr>\n",
              "      <th>1</th>\n",
              "      <td>18</td>\n",
              "      <td>33.8</td>\n",
              "      <td>1</td>\n",
              "      <td>1725.55</td>\n",
              "      <td>0</td>\n",
              "      <td>0</td>\n",
              "      <td>False</td>\n",
              "      <td>True</td>\n",
              "      <td>False</td>\n",
              "    </tr>\n",
              "    <tr>\n",
              "      <th>2</th>\n",
              "      <td>28</td>\n",
              "      <td>33.0</td>\n",
              "      <td>3</td>\n",
              "      <td>4449.46</td>\n",
              "      <td>0</td>\n",
              "      <td>0</td>\n",
              "      <td>False</td>\n",
              "      <td>True</td>\n",
              "      <td>False</td>\n",
              "    </tr>\n",
              "    <tr>\n",
              "      <th>3</th>\n",
              "      <td>33</td>\n",
              "      <td>22.7</td>\n",
              "      <td>0</td>\n",
              "      <td>21984.47</td>\n",
              "      <td>0</td>\n",
              "      <td>0</td>\n",
              "      <td>True</td>\n",
              "      <td>False</td>\n",
              "      <td>False</td>\n",
              "    </tr>\n",
              "    <tr>\n",
              "      <th>4</th>\n",
              "      <td>32</td>\n",
              "      <td>28.9</td>\n",
              "      <td>0</td>\n",
              "      <td>3866.86</td>\n",
              "      <td>0</td>\n",
              "      <td>0</td>\n",
              "      <td>True</td>\n",
              "      <td>False</td>\n",
              "      <td>False</td>\n",
              "    </tr>\n",
              "    <tr>\n",
              "      <th>...</th>\n",
              "      <td>...</td>\n",
              "      <td>...</td>\n",
              "      <td>...</td>\n",
              "      <td>...</td>\n",
              "      <td>...</td>\n",
              "      <td>...</td>\n",
              "      <td>...</td>\n",
              "      <td>...</td>\n",
              "      <td>...</td>\n",
              "    </tr>\n",
              "    <tr>\n",
              "      <th>1333</th>\n",
              "      <td>50</td>\n",
              "      <td>31.0</td>\n",
              "      <td>3</td>\n",
              "      <td>10600.55</td>\n",
              "      <td>0</td>\n",
              "      <td>0</td>\n",
              "      <td>True</td>\n",
              "      <td>False</td>\n",
              "      <td>False</td>\n",
              "    </tr>\n",
              "    <tr>\n",
              "      <th>1334</th>\n",
              "      <td>18</td>\n",
              "      <td>31.9</td>\n",
              "      <td>0</td>\n",
              "      <td>2205.98</td>\n",
              "      <td>1</td>\n",
              "      <td>0</td>\n",
              "      <td>False</td>\n",
              "      <td>False</td>\n",
              "      <td>False</td>\n",
              "    </tr>\n",
              "    <tr>\n",
              "      <th>1335</th>\n",
              "      <td>18</td>\n",
              "      <td>36.9</td>\n",
              "      <td>0</td>\n",
              "      <td>1629.83</td>\n",
              "      <td>1</td>\n",
              "      <td>0</td>\n",
              "      <td>False</td>\n",
              "      <td>True</td>\n",
              "      <td>False</td>\n",
              "    </tr>\n",
              "    <tr>\n",
              "      <th>1336</th>\n",
              "      <td>21</td>\n",
              "      <td>25.8</td>\n",
              "      <td>0</td>\n",
              "      <td>2007.95</td>\n",
              "      <td>1</td>\n",
              "      <td>0</td>\n",
              "      <td>False</td>\n",
              "      <td>False</td>\n",
              "      <td>True</td>\n",
              "    </tr>\n",
              "    <tr>\n",
              "      <th>1337</th>\n",
              "      <td>61</td>\n",
              "      <td>29.1</td>\n",
              "      <td>0</td>\n",
              "      <td>29141.36</td>\n",
              "      <td>1</td>\n",
              "      <td>1</td>\n",
              "      <td>True</td>\n",
              "      <td>False</td>\n",
              "      <td>False</td>\n",
              "    </tr>\n",
              "  </tbody>\n",
              "</table>\n",
              "<p>1337 rows × 9 columns</p>\n",
              "</div>"
            ],
            "text/plain": [
              "      age   bmi  children  expenses  genero  fumante  northwest  southeast  \\\n",
              "0      19  27.9         0  16884.92       1        1      False      False   \n",
              "1      18  33.8         1   1725.55       0        0      False       True   \n",
              "2      28  33.0         3   4449.46       0        0      False       True   \n",
              "3      33  22.7         0  21984.47       0        0       True      False   \n",
              "4      32  28.9         0   3866.86       0        0       True      False   \n",
              "...   ...   ...       ...       ...     ...      ...        ...        ...   \n",
              "1333   50  31.0         3  10600.55       0        0       True      False   \n",
              "1334   18  31.9         0   2205.98       1        0      False      False   \n",
              "1335   18  36.9         0   1629.83       1        0      False       True   \n",
              "1336   21  25.8         0   2007.95       1        0      False      False   \n",
              "1337   61  29.1         0  29141.36       1        1       True      False   \n",
              "\n",
              "      southwest  \n",
              "0          True  \n",
              "1         False  \n",
              "2         False  \n",
              "3         False  \n",
              "4         False  \n",
              "...         ...  \n",
              "1333      False  \n",
              "1334      False  \n",
              "1335      False  \n",
              "1336       True  \n",
              "1337      False  \n",
              "\n",
              "[1337 rows x 9 columns]"
            ]
          },
          "execution_count": 22,
          "metadata": {},
          "output_type": "execute_result"
        }
      ],
      "source": [
        "# Convertendo dados \"string\" para \"números\"\n",
        "df[\"genero\"] = df[\"sex\"].apply( lambda x: 0 if x == \"male\" else 1 )\n",
        "df[\"fumante\"] = df[\"smoker\"].apply( lambda x: 1 if x == \"yes\" else 0 )\n",
        "\n",
        "# OneHotEncoder da coluna \"region\"\n",
        "aux = pd.get_dummies(df[\"region\"], drop_first=True)\n",
        "df_final = pd.concat([df, aux], axis=1)\n",
        "\n",
        "# Remover colunas que já foram processadas\n",
        "df_final.drop(columns=[\"sex\", \"smoker\", \"region\"], inplace=True)\n",
        "df_final"
      ]
    },
    {
      "cell_type": "code",
      "execution_count": 23,
      "metadata": {
        "id": "sHnBfIORACZb"
      },
      "outputs": [],
      "source": [
        "# Separação de DADOS e LABEL\n",
        "X = df_final.drop(columns=[\"expenses\"])\n",
        "y = df_final[\"expenses\"]\n",
        "\n",
        "# Dividindo dados para TREINO e TESTE\n",
        "X_train, X_test, y_train, y_test = train_test_split(\n",
        "    X,\n",
        "    y,\n",
        "    test_size=0.3,\n",
        "    random_state=42\n",
        ")\n",
        "\n",
        "# Padronização dos dados\n",
        "ss = StandardScaler()\n",
        "X_train_scaled = ss.fit_transform(X_train)\n",
        "X_test_scaled = ss.transform(X_test)"
      ]
    },
    {
      "cell_type": "code",
      "execution_count": 24,
      "metadata": {},
      "outputs": [
        {
          "data": {
            "text/plain": [
              "['scaler.pkl']"
            ]
          },
          "execution_count": 24,
          "metadata": {},
          "output_type": "execute_result"
        }
      ],
      "source": [
        "import joblib\n",
        "joblib.dump(ss, 'scaler.pkl')"
      ]
    },
    {
      "cell_type": "code",
      "execution_count": 25,
      "metadata": {
        "colab": {
          "base_uri": "https://localhost:8080/"
        },
        "id": "gfHaqdOfE6OM",
        "outputId": "ff593fb0-c85c-41a7-a05e-d560f3e511fc"
      },
      "outputs": [
        {
          "data": {
            "text/plain": [
              "(      age   bmi  children  genero  fumante  northwest  southeast  southwest\n",
              " 138    54  31.9         3       1        0      False       True      False\n",
              " 381    55  30.7         0       0        1      False      False      False\n",
              " 292    25  45.5         2       0        1      False       True      False\n",
              " 1090   47  36.2         0       0        1      False       True      False\n",
              " 893    47  38.9         2       0        1      False       True      False\n",
              " ...   ...   ...       ...     ...      ...        ...        ...        ...\n",
              " 1096   51  35.0         2       1        1      False      False      False\n",
              " 1131   27  45.9         2       0        0      False      False       True\n",
              " 1295   20  22.0         1       0        0      False      False       True\n",
              " 861    38  28.0         3       1        0      False      False       True\n",
              " 1127   35  35.9         2       1        0      False       True      False\n",
              " \n",
              " [935 rows x 8 columns],\n",
              " array([[ 1.07135822,  0.21232198,  1.59987002, ..., -0.57776193,\n",
              "          1.64630418, -0.57282196],\n",
              "        [ 1.14282796,  0.01300366, -0.90578906, ..., -0.57776193,\n",
              "         -0.60742116, -0.57282196],\n",
              "        [-1.00126436,  2.47126303,  0.76465033, ..., -0.57776193,\n",
              "          1.64630418, -0.57282196],\n",
              "        ...,\n",
              "        [-1.35861308, -1.43205422, -0.07056936, ..., -0.57776193,\n",
              "         -0.60742116,  1.74574312],\n",
              "        [-0.07215769, -0.43546258,  1.59987002, ..., -0.57776193,\n",
              "         -0.60742116,  1.74574312],\n",
              "        [-0.28656692,  0.87671641,  0.76465033, ..., -0.57776193,\n",
              "          1.64630418, -0.57282196]]))"
            ]
          },
          "execution_count": 25,
          "metadata": {},
          "output_type": "execute_result"
        }
      ],
      "source": [
        "X_train, X_train_scaled"
      ]
    },
    {
      "cell_type": "markdown",
      "metadata": {
        "id": "SwF8jVGyDnG1"
      },
      "source": [
        "Agora vamos treinar nossos dados, vamos fazer dois modelos:\n",
        "\n",
        "1.   modelo de regressão linear simples.\n",
        "2.   modelo de rede neural\n",
        "\n",
        "\n"
      ]
    },
    {
      "cell_type": "code",
      "execution_count": 26,
      "metadata": {
        "id": "uer4ULxxACvF"
      },
      "outputs": [],
      "source": [
        "# funçao para facilitar o calculo das métricas\n",
        "\n",
        "\n",
        "def metricas(X_tr_scaled, y_tr, y_ts, y_pr, model, id_modelo):\n",
        "    y_pr_tr = model.predict(X_tr_scaled)\n",
        "\n",
        "    # Erro quadrático médio\n",
        "    print(f\"MSE do TREINO ({id_modelo}): \", mean_squared_error(y_tr, y_pr_tr))\n",
        "    print(f\"MSE do TESTE ({id_modelo}): \", mean_squared_error(y_ts, y_pr))\n",
        "\n",
        "    # Erro absoluto médio\n",
        "    print(f\"MAE do TREINO ({id_modelo}): \", mean_absolute_error(y_tr, y_pr_tr))\n",
        "    print(f\"MAE do TESTE ({id_modelo}): \", mean_absolute_error(y_ts, y_pr))\n",
        "\n",
        "    # R²\n",
        "    print(f\"R² do TREINO ({id_modelo}): \", r2_score(y_tr, y_pr_tr))\n",
        "    print(f\"R² do TESTE ({id_modelo}): \", r2_score(y_ts, y_pr))"
      ]
    },
    {
      "cell_type": "code",
      "execution_count": 27,
      "metadata": {
        "id": "_qnqsGBAACsW"
      },
      "outputs": [],
      "source": [
        "# Treinando o modelo usando sklearn\n",
        "model_lr = LinearRegression()\n",
        "model_lr.fit(X_train_scaled, y_train)\n",
        "\n",
        "# Fazendo as predições\n",
        "y_pred = model_lr.predict(X_test_scaled)"
      ]
    },
    {
      "cell_type": "code",
      "execution_count": 28,
      "metadata": {
        "colab": {
          "base_uri": "https://localhost:8080/"
        },
        "id": "WnMvo2viACyx",
        "outputId": "e1bee10c-a892-4d08-9d4f-f5362d192a6e"
      },
      "outputs": [
        {
          "name": "stdout",
          "output_type": "stream",
          "text": [
            "MSE do TREINO (Reg Linear):  35810116.96256572\n",
            "MSE do TESTE (Reg Linear):  38939165.630002595\n",
            "MAE do TREINO (Reg Linear):  4165.7883312974745\n",
            "MAE do TESTE (Reg Linear):  4181.631594223738\n",
            "R² do TREINO (Reg Linear):  0.7362844577541661\n",
            "R² do TESTE (Reg Linear):  0.7724422253182589\n"
          ]
        }
      ],
      "source": [
        "# Metricas para regressão linear\n",
        "metricas(X_train_scaled, y_train, y_test, y_pred, model_lr, \"Reg Linear\")"
      ]
    },
    {
      "cell_type": "markdown",
      "metadata": {
        "id": "puVR2d4KBpP2"
      },
      "source": [
        "Vamos implementar um modelo de rede neural com Tensorflow\n",
        "\n",
        "- criar o modelo de rede neural\n",
        "- compilar o modelo\n",
        "- treinar o modelo\n",
        "\n",
        "\n",
        "\n",
        "\n"
      ]
    },
    {
      "cell_type": "code",
      "execution_count": 29,
      "metadata": {
        "colab": {
          "base_uri": "https://localhost:8080/"
        },
        "id": "7t2GhKGcBuV9",
        "outputId": "7c803a94-6927-44e1-de97-30b66e618f65"
      },
      "outputs": [
        {
          "name": "stdout",
          "output_type": "stream",
          "text": [
            "Epoch 1/100\n",
            "\u001b[1m24/24\u001b[0m \u001b[32m━━━━━━━━━━━━━━━━━━━━\u001b[0m\u001b[37m\u001b[0m \u001b[1m2s\u001b[0m 13ms/step - loss: 286995200.0000 - mae: 12540.0508 - val_loss: 294240608.0000 - val_mae: 12371.4844\n",
            "Epoch 2/100\n",
            "\u001b[1m24/24\u001b[0m \u001b[32m━━━━━━━━━━━━━━━━━━━━\u001b[0m\u001b[37m\u001b[0m \u001b[1m0s\u001b[0m 6ms/step - loss: 282215776.0000 - mae: 12574.6602 - val_loss: 256226000.0000 - val_mae: 11038.0654\n",
            "Epoch 3/100\n",
            "\u001b[1m24/24\u001b[0m \u001b[32m━━━━━━━━━━━━━━━━━━━━\u001b[0m\u001b[37m\u001b[0m \u001b[1m0s\u001b[0m 5ms/step - loss: 262249840.0000 - mae: 11079.4902 - val_loss: 89286360.0000 - val_mae: 5936.0454\n",
            "Epoch 4/100\n",
            "\u001b[1m24/24\u001b[0m \u001b[32m━━━━━━━━━━━━━━━━━━━━\u001b[0m\u001b[37m\u001b[0m \u001b[1m0s\u001b[0m 5ms/step - loss: 75497696.0000 - mae: 6599.3262 - val_loss: 49700548.0000 - val_mae: 5303.8618\n",
            "Epoch 5/100\n",
            "\u001b[1m24/24\u001b[0m \u001b[32m━━━━━━━━━━━━━━━━━━━━\u001b[0m\u001b[37m\u001b[0m \u001b[1m0s\u001b[0m 4ms/step - loss: 43017800.0000 - mae: 4729.5024 - val_loss: 38811256.0000 - val_mae: 4587.8970\n",
            "Epoch 6/100\n",
            "\u001b[1m24/24\u001b[0m \u001b[32m━━━━━━━━━━━━━━━━━━━━\u001b[0m\u001b[37m\u001b[0m \u001b[1m0s\u001b[0m 6ms/step - loss: 33533540.0000 - mae: 4440.7588 - val_loss: 35952736.0000 - val_mae: 4043.7588\n",
            "Epoch 7/100\n",
            "\u001b[1m24/24\u001b[0m \u001b[32m━━━━━━━━━━━━━━━━━━━━\u001b[0m\u001b[37m\u001b[0m \u001b[1m0s\u001b[0m 4ms/step - loss: 34134616.0000 - mae: 4146.4341 - val_loss: 34332880.0000 - val_mae: 3990.4773\n",
            "Epoch 8/100\n",
            "\u001b[1m24/24\u001b[0m \u001b[32m━━━━━━━━━━━━━━━━━━━━\u001b[0m\u001b[37m\u001b[0m \u001b[1m0s\u001b[0m 6ms/step - loss: 29818856.0000 - mae: 3879.1694 - val_loss: 33866924.0000 - val_mae: 3839.9368\n",
            "Epoch 9/100\n",
            "\u001b[1m24/24\u001b[0m \u001b[32m━━━━━━━━━━━━━━━━━━━━\u001b[0m\u001b[37m\u001b[0m \u001b[1m0s\u001b[0m 4ms/step - loss: 31349398.0000 - mae: 3803.8623 - val_loss: 33152964.0000 - val_mae: 3772.9846\n",
            "Epoch 10/100\n",
            "\u001b[1m24/24\u001b[0m \u001b[32m━━━━━━━━━━━━━━━━━━━━\u001b[0m\u001b[37m\u001b[0m \u001b[1m0s\u001b[0m 6ms/step - loss: 27929534.0000 - mae: 3601.4519 - val_loss: 33020444.0000 - val_mae: 3712.5596\n",
            "Epoch 11/100\n",
            "\u001b[1m24/24\u001b[0m \u001b[32m━━━━━━━━━━━━━━━━━━━━\u001b[0m\u001b[37m\u001b[0m \u001b[1m0s\u001b[0m 5ms/step - loss: 28474448.0000 - mae: 3566.8843 - val_loss: 31935820.0000 - val_mae: 3687.2773\n",
            "Epoch 12/100\n",
            "\u001b[1m24/24\u001b[0m \u001b[32m━━━━━━━━━━━━━━━━━━━━\u001b[0m\u001b[37m\u001b[0m \u001b[1m0s\u001b[0m 8ms/step - loss: 27889210.0000 - mae: 3555.8147 - val_loss: 31465088.0000 - val_mae: 3667.9954\n",
            "Epoch 13/100\n",
            "\u001b[1m24/24\u001b[0m \u001b[32m━━━━━━━━━━━━━━━━━━━━\u001b[0m\u001b[37m\u001b[0m \u001b[1m0s\u001b[0m 4ms/step - loss: 32860926.0000 - mae: 3837.2329 - val_loss: 31573356.0000 - val_mae: 3592.9309\n",
            "Epoch 14/100\n",
            "\u001b[1m24/24\u001b[0m \u001b[32m━━━━━━━━━━━━━━━━━━━━\u001b[0m\u001b[37m\u001b[0m \u001b[1m0s\u001b[0m 5ms/step - loss: 28374564.0000 - mae: 3599.8823 - val_loss: 31417730.0000 - val_mae: 3488.0210\n",
            "Epoch 15/100\n",
            "\u001b[1m24/24\u001b[0m \u001b[32m━━━━━━━━━━━━━━━━━━━━\u001b[0m\u001b[37m\u001b[0m \u001b[1m0s\u001b[0m 5ms/step - loss: 28566560.0000 - mae: 3406.7151 - val_loss: 30143882.0000 - val_mae: 3551.5652\n",
            "Epoch 16/100\n",
            "\u001b[1m24/24\u001b[0m \u001b[32m━━━━━━━━━━━━━━━━━━━━\u001b[0m\u001b[37m\u001b[0m \u001b[1m0s\u001b[0m 4ms/step - loss: 27059604.0000 - mae: 3408.7874 - val_loss: 30262910.0000 - val_mae: 3472.4900\n",
            "Epoch 17/100\n",
            "\u001b[1m24/24\u001b[0m \u001b[32m━━━━━━━━━━━━━━━━━━━━\u001b[0m\u001b[37m\u001b[0m \u001b[1m0s\u001b[0m 5ms/step - loss: 25255512.0000 - mae: 3290.2634 - val_loss: 29285382.0000 - val_mae: 3501.3630\n",
            "Epoch 18/100\n",
            "\u001b[1m24/24\u001b[0m \u001b[32m━━━━━━━━━━━━━━━━━━━━\u001b[0m\u001b[37m\u001b[0m \u001b[1m0s\u001b[0m 5ms/step - loss: 28902126.0000 - mae: 3530.8267 - val_loss: 29344220.0000 - val_mae: 3425.2200\n",
            "Epoch 19/100\n",
            "\u001b[1m24/24\u001b[0m \u001b[32m━━━━━━━━━━━━━━━━━━━━\u001b[0m\u001b[37m\u001b[0m \u001b[1m0s\u001b[0m 5ms/step - loss: 23995338.0000 - mae: 3102.3430 - val_loss: 28541408.0000 - val_mae: 3462.0327\n",
            "Epoch 20/100\n",
            "\u001b[1m24/24\u001b[0m \u001b[32m━━━━━━━━━━━━━━━━━━━━\u001b[0m\u001b[37m\u001b[0m \u001b[1m0s\u001b[0m 5ms/step - loss: 25383418.0000 - mae: 3276.3992 - val_loss: 29177698.0000 - val_mae: 3241.9448\n",
            "Epoch 21/100\n",
            "\u001b[1m24/24\u001b[0m \u001b[32m━━━━━━━━━━━━━━━━━━━━\u001b[0m\u001b[37m\u001b[0m \u001b[1m0s\u001b[0m 6ms/step - loss: 26188816.0000 - mae: 3322.4561 - val_loss: 27884144.0000 - val_mae: 3505.5942\n",
            "Epoch 22/100\n",
            "\u001b[1m24/24\u001b[0m \u001b[32m━━━━━━━━━━━━━━━━━━━━\u001b[0m\u001b[37m\u001b[0m \u001b[1m0s\u001b[0m 5ms/step - loss: 26164080.0000 - mae: 3322.1790 - val_loss: 29466734.0000 - val_mae: 3090.7507\n",
            "Epoch 23/100\n",
            "\u001b[1m24/24\u001b[0m \u001b[32m━━━━━━━━━━━━━━━━━━━━\u001b[0m\u001b[37m\u001b[0m \u001b[1m0s\u001b[0m 4ms/step - loss: 23596348.0000 - mae: 2928.4983 - val_loss: 27518144.0000 - val_mae: 3541.6384\n",
            "Epoch 24/100\n",
            "\u001b[1m24/24\u001b[0m \u001b[32m━━━━━━━━━━━━━━━━━━━━\u001b[0m\u001b[37m\u001b[0m \u001b[1m0s\u001b[0m 5ms/step - loss: 24286200.0000 - mae: 3227.4661 - val_loss: 27455836.0000 - val_mae: 3269.0298\n",
            "Epoch 25/100\n",
            "\u001b[1m24/24\u001b[0m \u001b[32m━━━━━━━━━━━━━━━━━━━━\u001b[0m\u001b[37m\u001b[0m \u001b[1m0s\u001b[0m 5ms/step - loss: 25786682.0000 - mae: 3133.4141 - val_loss: 26964110.0000 - val_mae: 3262.2229\n",
            "Epoch 26/100\n",
            "\u001b[1m24/24\u001b[0m \u001b[32m━━━━━━━━━━━━━━━━━━━━\u001b[0m\u001b[37m\u001b[0m \u001b[1m0s\u001b[0m 5ms/step - loss: 22146816.0000 - mae: 3000.3164 - val_loss: 28141688.0000 - val_mae: 3003.0706\n",
            "Epoch 27/100\n",
            "\u001b[1m24/24\u001b[0m \u001b[32m━━━━━━━━━━━━━━━━━━━━\u001b[0m\u001b[37m\u001b[0m \u001b[1m0s\u001b[0m 4ms/step - loss: 22198098.0000 - mae: 2873.0439 - val_loss: 26913464.0000 - val_mae: 3188.2646\n",
            "Epoch 28/100\n",
            "\u001b[1m24/24\u001b[0m \u001b[32m━━━━━━━━━━━━━━━━━━━━\u001b[0m\u001b[37m\u001b[0m \u001b[1m0s\u001b[0m 5ms/step - loss: 26895316.0000 - mae: 3366.8047 - val_loss: 26810340.0000 - val_mae: 3113.4644\n",
            "Epoch 29/100\n",
            "\u001b[1m24/24\u001b[0m \u001b[32m━━━━━━━━━━━━━━━━━━━━\u001b[0m\u001b[37m\u001b[0m \u001b[1m0s\u001b[0m 4ms/step - loss: 25001108.0000 - mae: 3111.1504 - val_loss: 26831910.0000 - val_mae: 2975.1125\n",
            "Epoch 30/100\n",
            "\u001b[1m24/24\u001b[0m \u001b[32m━━━━━━━━━━━━━━━━━━━━\u001b[0m\u001b[37m\u001b[0m \u001b[1m0s\u001b[0m 5ms/step - loss: 25708338.0000 - mae: 3194.4504 - val_loss: 26504254.0000 - val_mae: 3023.2603\n",
            "Epoch 31/100\n",
            "\u001b[1m24/24\u001b[0m \u001b[32m━━━━━━━━━━━━━━━━━━━━\u001b[0m\u001b[37m\u001b[0m \u001b[1m0s\u001b[0m 4ms/step - loss: 25060654.0000 - mae: 3031.4602 - val_loss: 25480754.0000 - val_mae: 3168.1724\n",
            "Epoch 32/100\n",
            "\u001b[1m24/24\u001b[0m \u001b[32m━━━━━━━━━━━━━━━━━━━━\u001b[0m\u001b[37m\u001b[0m \u001b[1m0s\u001b[0m 4ms/step - loss: 22209098.0000 - mae: 2915.2859 - val_loss: 25418620.0000 - val_mae: 3361.4268\n",
            "Epoch 33/100\n",
            "\u001b[1m24/24\u001b[0m \u001b[32m━━━━━━━━━━━━━━━━━━━━\u001b[0m\u001b[37m\u001b[0m \u001b[1m0s\u001b[0m 4ms/step - loss: 21356666.0000 - mae: 3086.9636 - val_loss: 25189778.0000 - val_mae: 3097.6687\n",
            "Epoch 34/100\n",
            "\u001b[1m24/24\u001b[0m \u001b[32m━━━━━━━━━━━━━━━━━━━━\u001b[0m\u001b[37m\u001b[0m \u001b[1m0s\u001b[0m 5ms/step - loss: 24123746.0000 - mae: 3111.1812 - val_loss: 25277398.0000 - val_mae: 3147.4585\n",
            "Epoch 35/100\n",
            "\u001b[1m24/24\u001b[0m \u001b[32m━━━━━━━━━━━━━━━━━━━━\u001b[0m\u001b[37m\u001b[0m \u001b[1m0s\u001b[0m 5ms/step - loss: 21104868.0000 - mae: 2980.2271 - val_loss: 24866874.0000 - val_mae: 3000.2710\n",
            "Epoch 36/100\n",
            "\u001b[1m24/24\u001b[0m \u001b[32m━━━━━━━━━━━━━━━━━━━━\u001b[0m\u001b[37m\u001b[0m \u001b[1m0s\u001b[0m 5ms/step - loss: 19519800.0000 - mae: 2756.4170 - val_loss: 25154570.0000 - val_mae: 3009.3975\n",
            "Epoch 37/100\n",
            "\u001b[1m24/24\u001b[0m \u001b[32m━━━━━━━━━━━━━━━━━━━━\u001b[0m\u001b[37m\u001b[0m \u001b[1m0s\u001b[0m 4ms/step - loss: 20637704.0000 - mae: 2792.7170 - val_loss: 24560144.0000 - val_mae: 3165.7085\n",
            "Epoch 38/100\n",
            "\u001b[1m24/24\u001b[0m \u001b[32m━━━━━━━━━━━━━━━━━━━━\u001b[0m\u001b[37m\u001b[0m \u001b[1m0s\u001b[0m 5ms/step - loss: 26325766.0000 - mae: 3279.4951 - val_loss: 24768816.0000 - val_mae: 2905.2720\n",
            "Epoch 39/100\n",
            "\u001b[1m24/24\u001b[0m \u001b[32m━━━━━━━━━━━━━━━━━━━━\u001b[0m\u001b[37m\u001b[0m \u001b[1m0s\u001b[0m 5ms/step - loss: 23268902.0000 - mae: 3064.5928 - val_loss: 25392670.0000 - val_mae: 2837.9468\n",
            "Epoch 40/100\n",
            "\u001b[1m24/24\u001b[0m \u001b[32m━━━━━━━━━━━━━━━━━━━━\u001b[0m\u001b[37m\u001b[0m \u001b[1m0s\u001b[0m 5ms/step - loss: 22923436.0000 - mae: 2829.6582 - val_loss: 24247720.0000 - val_mae: 2960.0090\n",
            "Epoch 41/100\n",
            "\u001b[1m24/24\u001b[0m \u001b[32m━━━━━━━━━━━━━━━━━━━━\u001b[0m\u001b[37m\u001b[0m \u001b[1m0s\u001b[0m 5ms/step - loss: 23800050.0000 - mae: 2971.9963 - val_loss: 25094248.0000 - val_mae: 2827.8015\n",
            "Epoch 42/100\n",
            "\u001b[1m24/24\u001b[0m \u001b[32m━━━━━━━━━━━━━━━━━━━━\u001b[0m\u001b[37m\u001b[0m \u001b[1m0s\u001b[0m 5ms/step - loss: 23604462.0000 - mae: 2941.7703 - val_loss: 24006182.0000 - val_mae: 2852.0952\n",
            "Epoch 43/100\n",
            "\u001b[1m24/24\u001b[0m \u001b[32m━━━━━━━━━━━━━━━━━━━━\u001b[0m\u001b[37m\u001b[0m \u001b[1m0s\u001b[0m 5ms/step - loss: 18744686.0000 - mae: 2555.5437 - val_loss: 23711002.0000 - val_mae: 2958.8074\n",
            "Epoch 44/100\n",
            "\u001b[1m24/24\u001b[0m \u001b[32m━━━━━━━━━━━━━━━━━━━━\u001b[0m\u001b[37m\u001b[0m \u001b[1m0s\u001b[0m 5ms/step - loss: 20259274.0000 - mae: 2787.3987 - val_loss: 23659296.0000 - val_mae: 2948.2271\n",
            "Epoch 45/100\n",
            "\u001b[1m24/24\u001b[0m \u001b[32m━━━━━━━━━━━━━━━━━━━━\u001b[0m\u001b[37m\u001b[0m \u001b[1m0s\u001b[0m 4ms/step - loss: 26557692.0000 - mae: 3234.1838 - val_loss: 24629440.0000 - val_mae: 2789.3359\n",
            "Epoch 46/100\n",
            "\u001b[1m24/24\u001b[0m \u001b[32m━━━━━━━━━━━━━━━━━━━━\u001b[0m\u001b[37m\u001b[0m \u001b[1m0s\u001b[0m 5ms/step - loss: 17527152.0000 - mae: 2474.0432 - val_loss: 23981888.0000 - val_mae: 2751.6304\n",
            "Epoch 47/100\n",
            "\u001b[1m24/24\u001b[0m \u001b[32m━━━━━━━━━━━━━━━━━━━━\u001b[0m\u001b[37m\u001b[0m \u001b[1m0s\u001b[0m 4ms/step - loss: 21111756.0000 - mae: 2866.9546 - val_loss: 23533926.0000 - val_mae: 2920.2700\n",
            "Epoch 48/100\n",
            "\u001b[1m24/24\u001b[0m \u001b[32m━━━━━━━━━━━━━━━━━━━━\u001b[0m\u001b[37m\u001b[0m \u001b[1m0s\u001b[0m 4ms/step - loss: 21698072.0000 - mae: 2960.4133 - val_loss: 23219564.0000 - val_mae: 3007.7869\n",
            "Epoch 49/100\n",
            "\u001b[1m24/24\u001b[0m \u001b[32m━━━━━━━━━━━━━━━━━━━━\u001b[0m\u001b[37m\u001b[0m \u001b[1m0s\u001b[0m 4ms/step - loss: 22604874.0000 - mae: 2896.9614 - val_loss: 23861802.0000 - val_mae: 2759.5188\n",
            "Epoch 50/100\n",
            "\u001b[1m24/24\u001b[0m \u001b[32m━━━━━━━━━━━━━━━━━━━━\u001b[0m\u001b[37m\u001b[0m \u001b[1m0s\u001b[0m 5ms/step - loss: 22240142.0000 - mae: 2848.2134 - val_loss: 24595606.0000 - val_mae: 2638.4658\n",
            "Epoch 51/100\n",
            "\u001b[1m24/24\u001b[0m \u001b[32m━━━━━━━━━━━━━━━━━━━━\u001b[0m\u001b[37m\u001b[0m \u001b[1m0s\u001b[0m 5ms/step - loss: 19778196.0000 - mae: 2639.4036 - val_loss: 23029502.0000 - val_mae: 2959.5425\n",
            "Epoch 52/100\n",
            "\u001b[1m24/24\u001b[0m \u001b[32m━━━━━━━━━━━━━━━━━━━━\u001b[0m\u001b[37m\u001b[0m \u001b[1m0s\u001b[0m 5ms/step - loss: 18927290.0000 - mae: 2714.4714 - val_loss: 23113104.0000 - val_mae: 2829.2317\n",
            "Epoch 53/100\n",
            "\u001b[1m24/24\u001b[0m \u001b[32m━━━━━━━━━━━━━━━━━━━━\u001b[0m\u001b[37m\u001b[0m \u001b[1m0s\u001b[0m 4ms/step - loss: 21186284.0000 - mae: 2885.1267 - val_loss: 22910610.0000 - val_mae: 2849.0642\n",
            "Epoch 54/100\n",
            "\u001b[1m24/24\u001b[0m \u001b[32m━━━━━━━━━━━━━━━━━━━━\u001b[0m\u001b[37m\u001b[0m \u001b[1m0s\u001b[0m 5ms/step - loss: 20983362.0000 - mae: 2744.7666 - val_loss: 22778332.0000 - val_mae: 2785.3005\n",
            "Epoch 55/100\n",
            "\u001b[1m24/24\u001b[0m \u001b[32m━━━━━━━━━━━━━━━━━━━━\u001b[0m\u001b[37m\u001b[0m \u001b[1m0s\u001b[0m 5ms/step - loss: 21605676.0000 - mae: 2969.8818 - val_loss: 23116686.0000 - val_mae: 2732.0356\n",
            "Epoch 56/100\n",
            "\u001b[1m24/24\u001b[0m \u001b[32m━━━━━━━━━━━━━━━━━━━━\u001b[0m\u001b[37m\u001b[0m \u001b[1m0s\u001b[0m 5ms/step - loss: 16291746.0000 - mae: 2454.2151 - val_loss: 22595438.0000 - val_mae: 2993.6189\n",
            "Epoch 57/100\n",
            "\u001b[1m24/24\u001b[0m \u001b[32m━━━━━━━━━━━━━━━━━━━━\u001b[0m\u001b[37m\u001b[0m \u001b[1m0s\u001b[0m 4ms/step - loss: 20480268.0000 - mae: 2856.1575 - val_loss: 22607254.0000 - val_mae: 2912.3015\n",
            "Epoch 58/100\n",
            "\u001b[1m24/24\u001b[0m \u001b[32m━━━━━━━━━━━━━━━━━━━━\u001b[0m\u001b[37m\u001b[0m \u001b[1m0s\u001b[0m 5ms/step - loss: 20161232.0000 - mae: 2877.7004 - val_loss: 22784988.0000 - val_mae: 2670.5969\n",
            "Epoch 59/100\n",
            "\u001b[1m24/24\u001b[0m \u001b[32m━━━━━━━━━━━━━━━━━━━━\u001b[0m\u001b[37m\u001b[0m \u001b[1m0s\u001b[0m 5ms/step - loss: 19626496.0000 - mae: 2653.7402 - val_loss: 22843104.0000 - val_mae: 2803.3054\n",
            "Epoch 60/100\n",
            "\u001b[1m24/24\u001b[0m \u001b[32m━━━━━━━━━━━━━━━━━━━━\u001b[0m\u001b[37m\u001b[0m \u001b[1m0s\u001b[0m 5ms/step - loss: 21991684.0000 - mae: 2986.8186 - val_loss: 24281468.0000 - val_mae: 2571.9207\n",
            "Epoch 61/100\n",
            "\u001b[1m24/24\u001b[0m \u001b[32m━━━━━━━━━━━━━━━━━━━━\u001b[0m\u001b[37m\u001b[0m \u001b[1m0s\u001b[0m 5ms/step - loss: 18273672.0000 - mae: 2534.3296 - val_loss: 22635536.0000 - val_mae: 2682.2720\n",
            "Epoch 62/100\n",
            "\u001b[1m24/24\u001b[0m \u001b[32m━━━━━━━━━━━━━━━━━━━━\u001b[0m\u001b[37m\u001b[0m \u001b[1m0s\u001b[0m 4ms/step - loss: 22100574.0000 - mae: 2959.3127 - val_loss: 23272752.0000 - val_mae: 2599.0256\n",
            "Epoch 63/100\n",
            "\u001b[1m24/24\u001b[0m \u001b[32m━━━━━━━━━━━━━━━━━━━━\u001b[0m\u001b[37m\u001b[0m \u001b[1m0s\u001b[0m 5ms/step - loss: 16753700.0000 - mae: 2421.4558 - val_loss: 22336286.0000 - val_mae: 2771.0676\n",
            "Epoch 64/100\n",
            "\u001b[1m24/24\u001b[0m \u001b[32m━━━━━━━━━━━━━━━━━━━━\u001b[0m\u001b[37m\u001b[0m \u001b[1m0s\u001b[0m 5ms/step - loss: 19150362.0000 - mae: 2643.0439 - val_loss: 22737302.0000 - val_mae: 2748.3157\n",
            "Epoch 65/100\n",
            "\u001b[1m24/24\u001b[0m \u001b[32m━━━━━━━━━━━━━━━━━━━━\u001b[0m\u001b[37m\u001b[0m \u001b[1m0s\u001b[0m 5ms/step - loss: 22831406.0000 - mae: 2815.2600 - val_loss: 22906158.0000 - val_mae: 2628.7244\n",
            "Epoch 66/100\n",
            "\u001b[1m24/24\u001b[0m \u001b[32m━━━━━━━━━━━━━━━━━━━━\u001b[0m\u001b[37m\u001b[0m \u001b[1m0s\u001b[0m 6ms/step - loss: 19896306.0000 - mae: 2643.1548 - val_loss: 22511526.0000 - val_mae: 2717.2275\n",
            "Epoch 67/100\n",
            "\u001b[1m24/24\u001b[0m \u001b[32m━━━━━━━━━━━━━━━━━━━━\u001b[0m\u001b[37m\u001b[0m \u001b[1m0s\u001b[0m 10ms/step - loss: 19509936.0000 - mae: 2674.1211 - val_loss: 22437518.0000 - val_mae: 2723.2925\n",
            "Epoch 68/100\n",
            "\u001b[1m24/24\u001b[0m \u001b[32m━━━━━━━━━━━━━━━━━━━━\u001b[0m\u001b[37m\u001b[0m \u001b[1m0s\u001b[0m 4ms/step - loss: 18833258.0000 - mae: 2755.8857 - val_loss: 22182222.0000 - val_mae: 2722.3984\n",
            "Epoch 69/100\n",
            "\u001b[1m24/24\u001b[0m \u001b[32m━━━━━━━━━━━━━━━━━━━━\u001b[0m\u001b[37m\u001b[0m \u001b[1m0s\u001b[0m 5ms/step - loss: 20296098.0000 - mae: 2782.2158 - val_loss: 22393664.0000 - val_mae: 2662.4480\n",
            "Epoch 70/100\n",
            "\u001b[1m24/24\u001b[0m \u001b[32m━━━━━━━━━━━━━━━━━━━━\u001b[0m\u001b[37m\u001b[0m \u001b[1m0s\u001b[0m 5ms/step - loss: 18780242.0000 - mae: 2625.7461 - val_loss: 22211990.0000 - val_mae: 2739.4514\n",
            "Epoch 71/100\n",
            "\u001b[1m24/24\u001b[0m \u001b[32m━━━━━━━━━━━━━━━━━━━━\u001b[0m\u001b[37m\u001b[0m \u001b[1m0s\u001b[0m 5ms/step - loss: 21411026.0000 - mae: 2846.6653 - val_loss: 22215998.0000 - val_mae: 2683.8545\n",
            "Epoch 72/100\n",
            "\u001b[1m24/24\u001b[0m \u001b[32m━━━━━━━━━━━━━━━━━━━━\u001b[0m\u001b[37m\u001b[0m \u001b[1m0s\u001b[0m 5ms/step - loss: 18198396.0000 - mae: 2605.5071 - val_loss: 22490620.0000 - val_mae: 2670.3533\n",
            "Epoch 73/100\n",
            "\u001b[1m24/24\u001b[0m \u001b[32m━━━━━━━━━━━━━━━━━━━━\u001b[0m\u001b[37m\u001b[0m \u001b[1m0s\u001b[0m 4ms/step - loss: 20439856.0000 - mae: 2766.7146 - val_loss: 22533492.0000 - val_mae: 2660.8254\n",
            "Epoch 74/100\n",
            "\u001b[1m24/24\u001b[0m \u001b[32m━━━━━━━━━━━━━━━━━━━━\u001b[0m\u001b[37m\u001b[0m \u001b[1m0s\u001b[0m 5ms/step - loss: 19606264.0000 - mae: 2659.7600 - val_loss: 23051314.0000 - val_mae: 2633.0454\n",
            "Epoch 75/100\n",
            "\u001b[1m24/24\u001b[0m \u001b[32m━━━━━━━━━━━━━━━━━━━━\u001b[0m\u001b[37m\u001b[0m \u001b[1m0s\u001b[0m 5ms/step - loss: 16145763.0000 - mae: 2454.5547 - val_loss: 22592208.0000 - val_mae: 2690.8801\n",
            "Epoch 76/100\n",
            "\u001b[1m24/24\u001b[0m \u001b[32m━━━━━━━━━━━━━━━━━━━━\u001b[0m\u001b[37m\u001b[0m \u001b[1m0s\u001b[0m 5ms/step - loss: 20290850.0000 - mae: 2870.1597 - val_loss: 22785812.0000 - val_mae: 2648.8889\n",
            "Epoch 77/100\n",
            "\u001b[1m24/24\u001b[0m \u001b[32m━━━━━━━━━━━━━━━━━━━━\u001b[0m\u001b[37m\u001b[0m \u001b[1m0s\u001b[0m 4ms/step - loss: 16965754.0000 - mae: 2522.8306 - val_loss: 22310720.0000 - val_mae: 2806.3462\n",
            "Epoch 78/100\n",
            "\u001b[1m24/24\u001b[0m \u001b[32m━━━━━━━━━━━━━━━━━━━━\u001b[0m\u001b[37m\u001b[0m \u001b[1m0s\u001b[0m 4ms/step - loss: 20044864.0000 - mae: 2816.5630 - val_loss: 22572636.0000 - val_mae: 2694.0586\n",
            "Epoch 79/100\n",
            "\u001b[1m24/24\u001b[0m \u001b[32m━━━━━━━━━━━━━━━━━━━━\u001b[0m\u001b[37m\u001b[0m \u001b[1m0s\u001b[0m 4ms/step - loss: 18627322.0000 - mae: 2534.6174 - val_loss: 23971440.0000 - val_mae: 2564.2058\n",
            "Epoch 80/100\n",
            "\u001b[1m24/24\u001b[0m \u001b[32m━━━━━━━━━━━━━━━━━━━━\u001b[0m\u001b[37m\u001b[0m \u001b[1m0s\u001b[0m 4ms/step - loss: 18962252.0000 - mae: 2569.2466 - val_loss: 22635922.0000 - val_mae: 2606.4927\n",
            "Epoch 81/100\n",
            "\u001b[1m24/24\u001b[0m \u001b[32m━━━━━━━━━━━━━━━━━━━━\u001b[0m\u001b[37m\u001b[0m \u001b[1m0s\u001b[0m 4ms/step - loss: 21555268.0000 - mae: 2755.7144 - val_loss: 22585366.0000 - val_mae: 2707.5916\n",
            "Epoch 82/100\n",
            "\u001b[1m24/24\u001b[0m \u001b[32m━━━━━━━━━━━━━━━━━━━━\u001b[0m\u001b[37m\u001b[0m \u001b[1m0s\u001b[0m 5ms/step - loss: 20498140.0000 - mae: 2772.3684 - val_loss: 22452136.0000 - val_mae: 2947.0420\n",
            "Epoch 83/100\n",
            "\u001b[1m24/24\u001b[0m \u001b[32m━━━━━━━━━━━━━━━━━━━━\u001b[0m\u001b[37m\u001b[0m \u001b[1m0s\u001b[0m 5ms/step - loss: 22919982.0000 - mae: 3037.3445 - val_loss: 23010294.0000 - val_mae: 2578.6077\n",
            "Epoch 84/100\n",
            "\u001b[1m24/24\u001b[0m \u001b[32m━━━━━━━━━━━━━━━━━━━━\u001b[0m\u001b[37m\u001b[0m \u001b[1m0s\u001b[0m 5ms/step - loss: 21301010.0000 - mae: 2725.1655 - val_loss: 22393026.0000 - val_mae: 2649.1660\n",
            "Epoch 85/100\n",
            "\u001b[1m24/24\u001b[0m \u001b[32m━━━━━━━━━━━━━━━━━━━━\u001b[0m\u001b[37m\u001b[0m \u001b[1m0s\u001b[0m 5ms/step - loss: 17851038.0000 - mae: 2559.2063 - val_loss: 22997138.0000 - val_mae: 2658.2258\n",
            "Epoch 86/100\n",
            "\u001b[1m24/24\u001b[0m \u001b[32m━━━━━━━━━━━━━━━━━━━━\u001b[0m\u001b[37m\u001b[0m \u001b[1m0s\u001b[0m 5ms/step - loss: 21182442.0000 - mae: 2717.9082 - val_loss: 22672286.0000 - val_mae: 2723.2183\n",
            "Epoch 87/100\n",
            "\u001b[1m24/24\u001b[0m \u001b[32m━━━━━━━━━━━━━━━━━━━━\u001b[0m\u001b[37m\u001b[0m \u001b[1m0s\u001b[0m 4ms/step - loss: 17514194.0000 - mae: 2561.3499 - val_loss: 23643974.0000 - val_mae: 2640.5115\n",
            "Epoch 88/100\n",
            "\u001b[1m24/24\u001b[0m \u001b[32m━━━━━━━━━━━━━━━━━━━━\u001b[0m\u001b[37m\u001b[0m \u001b[1m0s\u001b[0m 4ms/step - loss: 16899032.0000 - mae: 2435.6450 - val_loss: 23155294.0000 - val_mae: 2683.6252\n",
            "Epoch 89/100\n",
            "\u001b[1m24/24\u001b[0m \u001b[32m━━━━━━━━━━━━━━━━━━━━\u001b[0m\u001b[37m\u001b[0m \u001b[1m0s\u001b[0m 4ms/step - loss: 19132802.0000 - mae: 2522.2439 - val_loss: 22564372.0000 - val_mae: 2586.0696\n",
            "Epoch 90/100\n",
            "\u001b[1m24/24\u001b[0m \u001b[32m━━━━━━━━━━━━━━━━━━━━\u001b[0m\u001b[37m\u001b[0m \u001b[1m0s\u001b[0m 4ms/step - loss: 17643798.0000 - mae: 2416.0449 - val_loss: 22417792.0000 - val_mae: 2752.5164\n",
            "Epoch 91/100\n",
            "\u001b[1m24/24\u001b[0m \u001b[32m━━━━━━━━━━━━━━━━━━━━\u001b[0m\u001b[37m\u001b[0m \u001b[1m0s\u001b[0m 4ms/step - loss: 19279034.0000 - mae: 2805.5278 - val_loss: 22549074.0000 - val_mae: 2658.9719\n",
            "Epoch 92/100\n",
            "\u001b[1m24/24\u001b[0m \u001b[32m━━━━━━━━━━━━━━━━━━━━\u001b[0m\u001b[37m\u001b[0m \u001b[1m0s\u001b[0m 4ms/step - loss: 20606150.0000 - mae: 2860.8933 - val_loss: 23107382.0000 - val_mae: 2680.2844\n",
            "Epoch 93/100\n",
            "\u001b[1m24/24\u001b[0m \u001b[32m━━━━━━━━━━━━━━━━━━━━\u001b[0m\u001b[37m\u001b[0m \u001b[1m0s\u001b[0m 4ms/step - loss: 16221903.0000 - mae: 2449.6392 - val_loss: 22591712.0000 - val_mae: 2678.6321\n",
            "Epoch 94/100\n",
            "\u001b[1m24/24\u001b[0m \u001b[32m━━━━━━━━━━━━━━━━━━━━\u001b[0m\u001b[37m\u001b[0m \u001b[1m0s\u001b[0m 4ms/step - loss: 18213372.0000 - mae: 2636.5356 - val_loss: 23726038.0000 - val_mae: 2694.6084\n",
            "Epoch 95/100\n",
            "\u001b[1m24/24\u001b[0m \u001b[32m━━━━━━━━━━━━━━━━━━━━\u001b[0m\u001b[37m\u001b[0m \u001b[1m0s\u001b[0m 5ms/step - loss: 16334857.0000 - mae: 2438.5278 - val_loss: 24664834.0000 - val_mae: 2613.9304\n",
            "Epoch 96/100\n",
            "\u001b[1m24/24\u001b[0m \u001b[32m━━━━━━━━━━━━━━━━━━━━\u001b[0m\u001b[37m\u001b[0m \u001b[1m0s\u001b[0m 4ms/step - loss: 20465810.0000 - mae: 2741.5479 - val_loss: 22982220.0000 - val_mae: 2612.7356\n",
            "Epoch 97/100\n",
            "\u001b[1m24/24\u001b[0m \u001b[32m━━━━━━━━━━━━━━━━━━━━\u001b[0m\u001b[37m\u001b[0m \u001b[1m0s\u001b[0m 5ms/step - loss: 19287480.0000 - mae: 2565.4780 - val_loss: 22844310.0000 - val_mae: 2694.7544\n",
            "Epoch 98/100\n",
            "\u001b[1m24/24\u001b[0m \u001b[32m━━━━━━━━━━━━━━━━━━━━\u001b[0m\u001b[37m\u001b[0m \u001b[1m0s\u001b[0m 4ms/step - loss: 18074886.0000 - mae: 2711.5732 - val_loss: 22888982.0000 - val_mae: 2642.3523\n",
            "Epoch 99/100\n",
            "\u001b[1m24/24\u001b[0m \u001b[32m━━━━━━━━━━━━━━━━━━━━\u001b[0m\u001b[37m\u001b[0m \u001b[1m0s\u001b[0m 5ms/step - loss: 14937628.0000 - mae: 2282.9653 - val_loss: 22645498.0000 - val_mae: 2977.7727\n",
            "Epoch 100/100\n",
            "\u001b[1m24/24\u001b[0m \u001b[32m━━━━━━━━━━━━━━━━━━━━\u001b[0m\u001b[37m\u001b[0m \u001b[1m0s\u001b[0m 5ms/step - loss: 18192832.0000 - mae: 2849.7603 - val_loss: 22862414.0000 - val_mae: 2640.0913\n",
            "\u001b[1m13/13\u001b[0m \u001b[32m━━━━━━━━━━━━━━━━━━━━\u001b[0m\u001b[37m\u001b[0m \u001b[1m0s\u001b[0m 6ms/step\n"
          ]
        }
      ],
      "source": [
        "import tensorflow as tf\n",
        "\n",
        "# Cria o modelo de rede neural\n",
        "# aqui devemos definir ao menos a quantidade de camadas, a quantidade de neuronios, o tipo de ativacao ...\n",
        "model_rn = tf.keras.models.Sequential([\n",
        "    tf.keras.layers.Dense(428, activation='relu', input_shape=[X_train_scaled.shape[1]]),\n",
        "    tf.keras.layers.Dense(364, activation='relu',),\n",
        "    tf.keras.layers.Dense(166, activation='relu',),\n",
        "     tf.keras.layers.Dense(66, activation='relu',),\n",
        "    tf.keras.layers.Dense(1)\n",
        "])\n",
        "\n",
        "# Compila o modelo\n",
        "model_rn.compile(optimizer='adam', loss='mean_squared_error', metrics=['mae'])\n",
        "\n",
        "# Treina o modelo\n",
        "historico_epochs = model_rn.fit(X_train_scaled, y_train, epochs=100, validation_split=0.2)\n",
        "\n",
        "# Fazendo as predições\n",
        "y_pr = model_rn.predict(X_test_scaled)"
      ]
    },
    {
      "cell_type": "code",
      "execution_count": 30,
      "metadata": {
        "colab": {
          "base_uri": "https://localhost:8080/",
          "height": 636
        },
        "id": "XNbG97hqDOkB",
        "outputId": "3c090bd5-b41a-4efb-d0ef-29aa6c891bb3"
      },
      "outputs": [
        {
          "name": "stdout",
          "output_type": "stream",
          "text": [
            "<class 'pandas.core.frame.DataFrame'>\n",
            "RangeIndex: 100 entries, 0 to 99\n",
            "Data columns (total 4 columns):\n",
            " #   Column    Non-Null Count  Dtype  \n",
            "---  ------    --------------  -----  \n",
            " 0   loss      100 non-null    float64\n",
            " 1   mae       100 non-null    float64\n",
            " 2   val_loss  100 non-null    float64\n",
            " 3   val_mae   100 non-null    float64\n",
            "dtypes: float64(4)\n",
            "memory usage: 3.3 KB\n"
          ]
        },
        {
          "data": {
            "image/png": "[encoded data removed]",
            "text/plain": [
              "<Figure size 640x480 with 1 Axes>"
            ]
          },
          "metadata": {},
          "output_type": "display_data"
        }
      ],
      "source": [
        "df_historico = pd.DataFrame(historico_epochs.history)\n",
        "df_historico.info()\n",
        "\n",
        "df_historico[['loss','val_loss']].plot()\n",
        "plt.show();\n"
      ]
    },
    {
      "cell_type": "code",
      "execution_count": 31,
      "metadata": {
        "colab": {
          "base_uri": "https://localhost:8080/"
        },
        "id": "PildkNoCCpOY",
        "outputId": "b0138297-67dc-410f-c7f7-7e4c07dfc12b"
      },
      "outputs": [
        {
          "name": "stdout",
          "output_type": "stream",
          "text": [
            "\u001b[1m30/30\u001b[0m \u001b[32m━━━━━━━━━━━━━━━━━━━━\u001b[0m\u001b[37m\u001b[0m \u001b[1m0s\u001b[0m 1ms/step \n",
            "MSE do TREINO (rede neural):  18559992.093091547\n",
            "MSE do TESTE (rede neural):  25161257.796091344\n",
            "MAE do TREINO (rede neural):  2513.4474653320312\n",
            "MAE do TESTE (rede neural):  2861.0375033523783\n",
            "R² do TREINO (rede neural):  0.8633191177782363\n",
            "R² do TESTE (rede neural):  0.8529593600777989\n"
          ]
        }
      ],
      "source": [
        "# Metricas para regressão linear\n",
        "metricas(X_train_scaled, y_train, y_test, y_pr, model_rn, \"rede neural\")"
      ]
    },
    {
      "cell_type": "markdown",
      "metadata": {},
      "source": [
        "### Salvando o modelo treinado"
      ]
    },
    {
      "cell_type": "code",
      "execution_count": 36,
      "metadata": {},
      "outputs": [],
      "source": [
        "model_rn.save('utils/model.keras')"
      ]
    },
    {
      "cell_type": "code",
      "execution_count": null,
      "metadata": {},
      "outputs": [],
      "source": []
    },
    {
      "cell_type": "code",
      "execution_count": null,
      "metadata": {},
      "outputs": [],
      "source": []
    }
  ],
  "metadata": {
    "colab": {
      "provenance": []
    },
    "kernelspec": {
      "display_name": "Python 3",
      "name": "python3"
    },
    "language_info": {
      "codemirror_mode": {
        "name": "ipython",
        "version": 3
      },
      "file_extension": ".py",
      "mimetype": "text/x-python",
      "name": "python",
      "nbconvert_exporter": "python",
      "pygments_lexer": "ipython3",
      "version": "3.11.8"
    }
  },
  "nbformat": 4,
  "nbformat_minor": 0
}
