{
  "cells": [
    {
      "cell_type": "markdown",
      "metadata": {
        "id": "YE6J7AG7-oZK"
      },
      "source": [
        "# **OBJETIVO 1 DA SOLUÇÃO ECONOMED**\n",
        "\n",
        "\n",
        "Do ponto de vista prático, utilizaremos uma base bastante conhecida contendo informações sobre os segurados (como idade, gênero, região de residência, entre outros).\n",
        "\n",
        "Esses atributos são comumente usados para prever os custos médicos de um segurado, o que pode ser útil para companhias de seguros na precificação de apólices ou na identificação de segmentos de clientes com diferentes perfis de risco.\n"
      ]
    },
    {
      "cell_type": "markdown",
      "metadata": {
        "id": "Jv6ogvvV-tJG"
      },
      "source": [
        "Esta base é composta pelos seguintes atributos:\n",
        "\n",
        "- age: Refere-se à idade do segurado, representada em anos.\n",
        "- sex: Indica o sexo do segurado, podendo ser 'male' ou 'female'.\n",
        "- bmi: Corresponde ao Índice de Massa Corporal (IMC) do segurado, uma medida que relaciona o peso e a altura da pessoa, geralmente expressa em kg/m².\n",
        "- children: Representa o número de filhos ou dependentes do segurado.\n",
        "- smoker: Indica se o segurado é fumante ou não, podendo ser 'yes' ou 'no'.\n",
        "-  region: Refere-se à região de residência do segurado, podendo ser 'northeast', 'northwest', 'southeast' ou 'southwest'.\n",
        "- expenses: Corresponde aos custos médicos do segurado, em dólares."
      ]
    },
    {
      "cell_type": "code",
      "execution_count": 76,
      "metadata": {
        "id": "wwQtSW_Q-7ar"
      },
      "outputs": [],
      "source": [
        "# Ignorar warnings\n",
        "import warnings\n",
        "warnings.filterwarnings(\"ignore\")\n",
        "\n",
        "# Bibliotecas para uso e visualização de dados\n",
        "import numpy as np\n",
        "import pandas as pd\n",
        "import seaborn as sns\n",
        "import matplotlib.pyplot as plt\n",
        "\n",
        "# Import para divisão dos dados de treino e teste\n",
        "from sklearn.model_selection import train_test_split\n",
        "\n",
        "# Imports para preparação de dados\n",
        "from sklearn.preprocessing import LabelEncoder\n",
        "from sklearn.preprocessing import StandardScaler\n",
        "from sklearn.preprocessing import MinMaxScaler\n",
        "\n",
        "\n",
        "# Import de modelo preditivo de regressão para comparar os resultados no final.\n",
        "from sklearn.linear_model import LinearRegression\n",
        "\n",
        "# Import de métricas para avaliação dos modelos\n",
        "from sklearn.metrics import mean_squared_error, mean_absolute_error, r2_score"
      ]
    },
    {
      "cell_type": "code",
      "execution_count": 77,
      "metadata": {
        "colab": {
          "base_uri": "https://localhost:8080/",
          "height": 206
        },
        "id": "0khK9Jh1_OCH",
        "outputId": "32a662ac-8b14-4b74-e5cd-5179c3c0c23c"
      },
      "outputs": [
        {
          "data": {
            "text/html": [
              "<div>\n",
              "<style scoped>\n",
              "    .dataframe tbody tr th:only-of-type {\n",
              "        vertical-align: middle;\n",
              "    }\n",
              "\n",
              "    .dataframe tbody tr th {\n",
              "        vertical-align: top;\n",
              "    }\n",
              "\n",
              "    .dataframe thead th {\n",
              "        text-align: right;\n",
              "    }\n",
              "</style>\n",
              "<table border=\"1\" class=\"dataframe\">\n",
              "  <thead>\n",
              "    <tr style=\"text-align: right;\">\n",
              "      <th></th>\n",
              "      <th>age</th>\n",
              "      <th>sex</th>\n",
              "      <th>bmi</th>\n",
              "      <th>children</th>\n",
              "      <th>smoker</th>\n",
              "      <th>region</th>\n",
              "      <th>expenses</th>\n",
              "    </tr>\n",
              "  </thead>\n",
              "  <tbody>\n",
              "    <tr>\n",
              "      <th>0</th>\n",
              "      <td>19</td>\n",
              "      <td>female</td>\n",
              "      <td>27.9</td>\n",
              "      <td>0</td>\n",
              "      <td>yes</td>\n",
              "      <td>southwest</td>\n",
              "      <td>16884.92</td>\n",
              "    </tr>\n",
              "    <tr>\n",
              "      <th>1</th>\n",
              "      <td>18</td>\n",
              "      <td>male</td>\n",
              "      <td>33.8</td>\n",
              "      <td>1</td>\n",
              "      <td>no</td>\n",
              "      <td>southeast</td>\n",
              "      <td>1725.55</td>\n",
              "    </tr>\n",
              "    <tr>\n",
              "      <th>2</th>\n",
              "      <td>28</td>\n",
              "      <td>male</td>\n",
              "      <td>33.0</td>\n",
              "      <td>3</td>\n",
              "      <td>no</td>\n",
              "      <td>southeast</td>\n",
              "      <td>4449.46</td>\n",
              "    </tr>\n",
              "    <tr>\n",
              "      <th>3</th>\n",
              "      <td>33</td>\n",
              "      <td>male</td>\n",
              "      <td>22.7</td>\n",
              "      <td>0</td>\n",
              "      <td>no</td>\n",
              "      <td>northwest</td>\n",
              "      <td>21984.47</td>\n",
              "    </tr>\n",
              "    <tr>\n",
              "      <th>4</th>\n",
              "      <td>32</td>\n",
              "      <td>male</td>\n",
              "      <td>28.9</td>\n",
              "      <td>0</td>\n",
              "      <td>no</td>\n",
              "      <td>northwest</td>\n",
              "      <td>3866.86</td>\n",
              "    </tr>\n",
              "  </tbody>\n",
              "</table>\n",
              "</div>"
            ],
            "text/plain": [
              "   age     sex   bmi  children smoker     region  expenses\n",
              "0   19  female  27.9         0    yes  southwest  16884.92\n",
              "1   18    male  33.8         1     no  southeast   1725.55\n",
              "2   28    male  33.0         3     no  southeast   4449.46\n",
              "3   33    male  22.7         0     no  northwest  21984.47\n",
              "4   32    male  28.9         0     no  northwest   3866.86"
            ]
          },
          "execution_count": 77,
          "metadata": {},
          "output_type": "execute_result"
        }
      ],
      "source": [
        "# Leitura do dataset\n",
        "df = pd.read_csv(\"./insurance.csv\")\n",
        "df.head(5)"
      ]
    },
    {
      "cell_type": "code",
      "execution_count": 78,
      "metadata": {
        "colab": {
          "base_uri": "https://localhost:8080/"
        },
        "id": "-XQcE_bH_ZSv",
        "outputId": "03d106d2-c8a2-4814-ffcc-b4c6df7e9fa9"
      },
      "outputs": [
        {
          "name": "stdout",
          "output_type": "stream",
          "text": [
            "<class 'pandas.core.frame.DataFrame'>\n",
            "RangeIndex: 1338 entries, 0 to 1337\n",
            "Data columns (total 7 columns):\n",
            " #   Column    Non-Null Count  Dtype  \n",
            "---  ------    --------------  -----  \n",
            " 0   age       1338 non-null   int64  \n",
            " 1   sex       1338 non-null   object \n",
            " 2   bmi       1338 non-null   float64\n",
            " 3   children  1338 non-null   int64  \n",
            " 4   smoker    1338 non-null   object \n",
            " 5   region    1338 non-null   object \n",
            " 6   expenses  1338 non-null   float64\n",
            "dtypes: float64(2), int64(2), object(3)\n",
            "memory usage: 73.3+ KB\n"
          ]
        }
      ],
      "source": [
        "# Quais os tipos? Dados faltantes?\n",
        "df.info()"
      ]
    },
    {
      "cell_type": "code",
      "execution_count": 79,
      "metadata": {
        "colab": {
          "base_uri": "https://localhost:8080/"
        },
        "id": "Ugr-Zwyx_e8Q",
        "outputId": "67bdc9bd-21e9-4f1f-bb05-6fda086afada"
      },
      "outputs": [
        {
          "data": {
            "text/plain": [
              "age           47\n",
              "sex            2\n",
              "bmi          275\n",
              "children       6\n",
              "smoker         2\n",
              "region         4\n",
              "expenses    1337\n",
              "dtype: int64"
            ]
          },
          "execution_count": 79,
          "metadata": {},
          "output_type": "execute_result"
        }
      ],
      "source": [
        "# Quantos dados únicos\n",
        "df.nunique()"
      ]
    },
    {
      "cell_type": "code",
      "execution_count": 80,
      "metadata": {
        "colab": {
          "base_uri": "https://localhost:8080/"
        },
        "id": "QCcaFtSv_jJb",
        "outputId": "7d49be9a-b835-4e06-8577-4fda47b928a3"
      },
      "outputs": [
        {
          "data": {
            "text/plain": [
              "(1337, 7)"
            ]
          },
          "execution_count": 80,
          "metadata": {},
          "output_type": "execute_result"
        }
      ],
      "source": [
        "# Removendo duplicatas\n",
        "df.drop_duplicates(inplace=True)\n",
        "df.shape\n"
      ]
    },
    {
      "cell_type": "code",
      "execution_count": 81,
      "metadata": {
        "colab": {
          "base_uri": "https://localhost:8080/",
          "height": 424
        },
        "id": "-oa3YiEB_vti",
        "outputId": "ccc2a699-c707-4d56-a0be-307b84828c92"
      },
      "outputs": [
        {
          "data": {
            "text/html": [
              "<div>\n",
              "<style scoped>\n",
              "    .dataframe tbody tr th:only-of-type {\n",
              "        vertical-align: middle;\n",
              "    }\n",
              "\n",
              "    .dataframe tbody tr th {\n",
              "        vertical-align: top;\n",
              "    }\n",
              "\n",
              "    .dataframe thead th {\n",
              "        text-align: right;\n",
              "    }\n",
              "</style>\n",
              "<table border=\"1\" class=\"dataframe\">\n",
              "  <thead>\n",
              "    <tr style=\"text-align: right;\">\n",
              "      <th></th>\n",
              "      <th>age</th>\n",
              "      <th>bmi</th>\n",
              "      <th>children</th>\n",
              "      <th>expenses</th>\n",
              "      <th>genero</th>\n",
              "      <th>fumante</th>\n",
              "      <th>northwest</th>\n",
              "      <th>southeast</th>\n",
              "      <th>southwest</th>\n",
              "    </tr>\n",
              "  </thead>\n",
              "  <tbody>\n",
              "    <tr>\n",
              "      <th>0</th>\n",
              "      <td>19</td>\n",
              "      <td>27.9</td>\n",
              "      <td>0</td>\n",
              "      <td>16884.92</td>\n",
              "      <td>1</td>\n",
              "      <td>1</td>\n",
              "      <td>False</td>\n",
              "      <td>False</td>\n",
              "      <td>True</td>\n",
              "    </tr>\n",
              "    <tr>\n",
              "      <th>1</th>\n",
              "      <td>18</td>\n",
              "      <td>33.8</td>\n",
              "      <td>1</td>\n",
              "      <td>1725.55</td>\n",
              "      <td>0</td>\n",
              "      <td>0</td>\n",
              "      <td>False</td>\n",
              "      <td>True</td>\n",
              "      <td>False</td>\n",
              "    </tr>\n",
              "    <tr>\n",
              "      <th>2</th>\n",
              "      <td>28</td>\n",
              "      <td>33.0</td>\n",
              "      <td>3</td>\n",
              "      <td>4449.46</td>\n",
              "      <td>0</td>\n",
              "      <td>0</td>\n",
              "      <td>False</td>\n",
              "      <td>True</td>\n",
              "      <td>False</td>\n",
              "    </tr>\n",
              "    <tr>\n",
              "      <th>3</th>\n",
              "      <td>33</td>\n",
              "      <td>22.7</td>\n",
              "      <td>0</td>\n",
              "      <td>21984.47</td>\n",
              "      <td>0</td>\n",
              "      <td>0</td>\n",
              "      <td>True</td>\n",
              "      <td>False</td>\n",
              "      <td>False</td>\n",
              "    </tr>\n",
              "    <tr>\n",
              "      <th>4</th>\n",
              "      <td>32</td>\n",
              "      <td>28.9</td>\n",
              "      <td>0</td>\n",
              "      <td>3866.86</td>\n",
              "      <td>0</td>\n",
              "      <td>0</td>\n",
              "      <td>True</td>\n",
              "      <td>False</td>\n",
              "      <td>False</td>\n",
              "    </tr>\n",
              "    <tr>\n",
              "      <th>...</th>\n",
              "      <td>...</td>\n",
              "      <td>...</td>\n",
              "      <td>...</td>\n",
              "      <td>...</td>\n",
              "      <td>...</td>\n",
              "      <td>...</td>\n",
              "      <td>...</td>\n",
              "      <td>...</td>\n",
              "      <td>...</td>\n",
              "    </tr>\n",
              "    <tr>\n",
              "      <th>1333</th>\n",
              "      <td>50</td>\n",
              "      <td>31.0</td>\n",
              "      <td>3</td>\n",
              "      <td>10600.55</td>\n",
              "      <td>0</td>\n",
              "      <td>0</td>\n",
              "      <td>True</td>\n",
              "      <td>False</td>\n",
              "      <td>False</td>\n",
              "    </tr>\n",
              "    <tr>\n",
              "      <th>1334</th>\n",
              "      <td>18</td>\n",
              "      <td>31.9</td>\n",
              "      <td>0</td>\n",
              "      <td>2205.98</td>\n",
              "      <td>1</td>\n",
              "      <td>0</td>\n",
              "      <td>False</td>\n",
              "      <td>False</td>\n",
              "      <td>False</td>\n",
              "    </tr>\n",
              "    <tr>\n",
              "      <th>1335</th>\n",
              "      <td>18</td>\n",
              "      <td>36.9</td>\n",
              "      <td>0</td>\n",
              "      <td>1629.83</td>\n",
              "      <td>1</td>\n",
              "      <td>0</td>\n",
              "      <td>False</td>\n",
              "      <td>True</td>\n",
              "      <td>False</td>\n",
              "    </tr>\n",
              "    <tr>\n",
              "      <th>1336</th>\n",
              "      <td>21</td>\n",
              "      <td>25.8</td>\n",
              "      <td>0</td>\n",
              "      <td>2007.95</td>\n",
              "      <td>1</td>\n",
              "      <td>0</td>\n",
              "      <td>False</td>\n",
              "      <td>False</td>\n",
              "      <td>True</td>\n",
              "    </tr>\n",
              "    <tr>\n",
              "      <th>1337</th>\n",
              "      <td>61</td>\n",
              "      <td>29.1</td>\n",
              "      <td>0</td>\n",
              "      <td>29141.36</td>\n",
              "      <td>1</td>\n",
              "      <td>1</td>\n",
              "      <td>True</td>\n",
              "      <td>False</td>\n",
              "      <td>False</td>\n",
              "    </tr>\n",
              "  </tbody>\n",
              "</table>\n",
              "<p>1337 rows × 9 columns</p>\n",
              "</div>"
            ],
            "text/plain": [
              "      age   bmi  children  expenses  genero  fumante  northwest  southeast  \\\n",
              "0      19  27.9         0  16884.92       1        1      False      False   \n",
              "1      18  33.8         1   1725.55       0        0      False       True   \n",
              "2      28  33.0         3   4449.46       0        0      False       True   \n",
              "3      33  22.7         0  21984.47       0        0       True      False   \n",
              "4      32  28.9         0   3866.86       0        0       True      False   \n",
              "...   ...   ...       ...       ...     ...      ...        ...        ...   \n",
              "1333   50  31.0         3  10600.55       0        0       True      False   \n",
              "1334   18  31.9         0   2205.98       1        0      False      False   \n",
              "1335   18  36.9         0   1629.83       1        0      False       True   \n",
              "1336   21  25.8         0   2007.95       1        0      False      False   \n",
              "1337   61  29.1         0  29141.36       1        1       True      False   \n",
              "\n",
              "      southwest  \n",
              "0          True  \n",
              "1         False  \n",
              "2         False  \n",
              "3         False  \n",
              "4         False  \n",
              "...         ...  \n",
              "1333      False  \n",
              "1334      False  \n",
              "1335      False  \n",
              "1336       True  \n",
              "1337      False  \n",
              "\n",
              "[1337 rows x 9 columns]"
            ]
          },
          "execution_count": 81,
          "metadata": {},
          "output_type": "execute_result"
        }
      ],
      "source": [
        "# Convertendo dados \"string\" para \"números\"\n",
        "df[\"genero\"] = df[\"sex\"].apply( lambda x: 0 if x == \"male\" else 1 )\n",
        "df[\"fumante\"] = df[\"smoker\"].apply( lambda x: 1 if x == \"yes\" else 0 )\n",
        "\n",
        "# OneHotEncoder da coluna \"region\"\n",
        "aux = pd.get_dummies(df[\"region\"], drop_first=True)\n",
        "df_final = pd.concat([df, aux], axis=1)\n",
        "\n",
        "# Remover colunas que já foram processadas\n",
        "df_final.drop(columns=[\"sex\", \"smoker\", \"region\"], inplace=True)\n",
        "df_final"
      ]
    },
    {
      "cell_type": "code",
      "execution_count": 82,
      "metadata": {
        "id": "sHnBfIORACZb"
      },
      "outputs": [],
      "source": [
        "# Separação de DADOS e LABEL\n",
        "X = df_final.drop(columns=[\"expenses\"])\n",
        "y = df_final[\"expenses\"]\n",
        "\n",
        "# Dividindo dados para TREINO e TESTE\n",
        "X_train, X_test, y_train, y_test = train_test_split(\n",
        "    X,\n",
        "    y,\n",
        "    test_size=0.3,\n",
        "    random_state=42\n",
        ")\n",
        "\n",
        "# Padronização dos dados\n",
        "ss = StandardScaler()\n",
        "X_train_scaled = ss.fit_transform(X_train)\n",
        "X_test_scaled = ss.transform(X_test)"
      ]
    },
    {
      "cell_type": "code",
      "execution_count": 83,
      "metadata": {},
      "outputs": [
        {
          "data": {
            "text/plain": [
              "['scaler.pkl']"
            ]
          },
          "execution_count": 83,
          "metadata": {},
          "output_type": "execute_result"
        }
      ],
      "source": [
        "import joblib\n",
        "joblib.dump(ss, 'scaler.pkl')"
      ]
    },
    {
      "cell_type": "code",
      "execution_count": 84,
      "metadata": {
        "colab": {
          "base_uri": "https://localhost:8080/"
        },
        "id": "gfHaqdOfE6OM",
        "outputId": "ff593fb0-c85c-41a7-a05e-d560f3e511fc"
      },
      "outputs": [
        {
          "data": {
            "text/plain": [
              "(      age   bmi  children  genero  fumante  northwest  southeast  southwest\n",
              " 138    54  31.9         3       1        0      False       True      False\n",
              " 381    55  30.7         0       0        1      False      False      False\n",
              " 292    25  45.5         2       0        1      False       True      False\n",
              " 1090   47  36.2         0       0        1      False       True      False\n",
              " 893    47  38.9         2       0        1      False       True      False\n",
              " ...   ...   ...       ...     ...      ...        ...        ...        ...\n",
              " 1096   51  35.0         2       1        1      False      False      False\n",
              " 1131   27  45.9         2       0        0      False      False       True\n",
              " 1295   20  22.0         1       0        0      False      False       True\n",
              " 861    38  28.0         3       1        0      False      False       True\n",
              " 1127   35  35.9         2       1        0      False       True      False\n",
              " \n",
              " [935 rows x 8 columns],\n",
              " array([[ 1.07135822,  0.21232198,  1.59987002, ..., -0.57776193,\n",
              "          1.64630418, -0.57282196],\n",
              "        [ 1.14282796,  0.01300366, -0.90578906, ..., -0.57776193,\n",
              "         -0.60742116, -0.57282196],\n",
              "        [-1.00126436,  2.47126303,  0.76465033, ..., -0.57776193,\n",
              "          1.64630418, -0.57282196],\n",
              "        ...,\n",
              "        [-1.35861308, -1.43205422, -0.07056936, ..., -0.57776193,\n",
              "         -0.60742116,  1.74574312],\n",
              "        [-0.07215769, -0.43546258,  1.59987002, ..., -0.57776193,\n",
              "         -0.60742116,  1.74574312],\n",
              "        [-0.28656692,  0.87671641,  0.76465033, ..., -0.57776193,\n",
              "          1.64630418, -0.57282196]]))"
            ]
          },
          "execution_count": 84,
          "metadata": {},
          "output_type": "execute_result"
        }
      ],
      "source": [
        "X_train, X_train_scaled"
      ]
    },
    {
      "cell_type": "markdown",
      "metadata": {
        "id": "SwF8jVGyDnG1"
      },
      "source": [
        "Agora vamos treinar nossos dados, vamos fazer dois modelos:\n",
        "\n",
        "1.   modelo de regressão linear simples.\n",
        "2.   modelo de rede neural\n",
        "\n",
        "\n"
      ]
    },
    {
      "cell_type": "code",
      "execution_count": 85,
      "metadata": {
        "id": "uer4ULxxACvF"
      },
      "outputs": [],
      "source": [
        "# funçao para facilitar o calculo das métricas\n",
        "\n",
        "\n",
        "def metricas(X_tr_scaled, y_tr, y_ts, y_pr, model, id_modelo):\n",
        "    y_pr_tr = model.predict(X_tr_scaled)\n",
        "\n",
        "    # Erro quadrático médio\n",
        "    print(f\"MSE do TREINO ({id_modelo}): \", mean_squared_error(y_tr, y_pr_tr))\n",
        "    print(f\"MSE do TESTE ({id_modelo}): \", mean_squared_error(y_ts, y_pr))\n",
        "\n",
        "    # Erro absoluto médio\n",
        "    print(f\"MAE do TREINO ({id_modelo}): \", mean_absolute_error(y_tr, y_pr_tr))\n",
        "    print(f\"MAE do TESTE ({id_modelo}): \", mean_absolute_error(y_ts, y_pr))\n",
        "\n",
        "    # R²\n",
        "    print(f\"R² do TREINO ({id_modelo}): \", r2_score(y_tr, y_pr_tr))\n",
        "    print(f\"R² do TESTE ({id_modelo}): \", r2_score(y_ts, y_pr))"
      ]
    },
    {
      "cell_type": "code",
      "execution_count": 86,
      "metadata": {
        "id": "_qnqsGBAACsW"
      },
      "outputs": [],
      "source": [
        "# Treinando o modelo usando sklearn\n",
        "model_lr = LinearRegression()\n",
        "model_lr.fit(X_train_scaled, y_train)\n",
        "\n",
        "# Fazendo as predições\n",
        "y_pred = model_lr.predict(X_test_scaled)"
      ]
    },
    {
      "cell_type": "code",
      "execution_count": 87,
      "metadata": {
        "colab": {
          "base_uri": "https://localhost:8080/"
        },
        "id": "WnMvo2viACyx",
        "outputId": "e1bee10c-a892-4d08-9d4f-f5362d192a6e"
      },
      "outputs": [
        {
          "name": "stdout",
          "output_type": "stream",
          "text": [
            "MSE do TREINO (Reg Linear):  35810116.96256572\n",
            "MSE do TESTE (Reg Linear):  38939165.630002595\n",
            "MAE do TREINO (Reg Linear):  4165.7883312974745\n",
            "MAE do TESTE (Reg Linear):  4181.631594223738\n",
            "R² do TREINO (Reg Linear):  0.7362844577541661\n",
            "R² do TESTE (Reg Linear):  0.7724422253182589\n"
          ]
        }
      ],
      "source": [
        "# Metricas para regressão linear\n",
        "metricas(X_train_scaled, y_train, y_test, y_pred, model_lr, \"Reg Linear\")"
      ]
    },
    {
      "cell_type": "markdown",
      "metadata": {
        "id": "puVR2d4KBpP2"
      },
      "source": [
        "Vamos implementar um modelo de rede neural com Tensorflow\n",
        "\n",
        "- criar o modelo de rede neural\n",
        "- compilar o modelo\n",
        "- treinar o modelo\n",
        "\n",
        "\n",
        "\n",
        "\n"
      ]
    },
    {
      "cell_type": "code",
      "execution_count": 88,
      "metadata": {
        "colab": {
          "base_uri": "https://localhost:8080/"
        },
        "id": "7t2GhKGcBuV9",
        "outputId": "7c803a94-6927-44e1-de97-30b66e618f65"
      },
      "outputs": [
        {
          "name": "stdout",
          "output_type": "stream",
          "text": [
            "Epoch 1/100\n",
            "24/24 [==============================] - 1s 12ms/step - loss: 307566464.0000 - mae: 13165.6484 - val_loss: 294301280.0000 - val_mae: 12369.9756\n",
            "Epoch 2/100\n",
            "24/24 [==============================] - 0s 5ms/step - loss: 292674400.0000 - mae: 12680.2676 - val_loss: 254113472.0000 - val_mae: 10906.7148\n",
            "Epoch 3/100\n",
            "24/24 [==============================] - 0s 4ms/step - loss: 182155872.0000 - mae: 9007.7021 - val_loss: 86680600.0000 - val_mae: 6144.7227\n",
            "Epoch 4/100\n",
            "24/24 [==============================] - 0s 5ms/step - loss: 60952684.0000 - mae: 6563.1763 - val_loss: 52480144.0000 - val_mae: 5419.0791\n",
            "Epoch 5/100\n",
            "24/24 [==============================] - 0s 4ms/step - loss: 40880332.0000 - mae: 4713.0332 - val_loss: 39926260.0000 - val_mae: 4753.4360\n",
            "Epoch 6/100\n",
            "24/24 [==============================] - 0s 4ms/step - loss: 34571252.0000 - mae: 4262.8369 - val_loss: 35958924.0000 - val_mae: 4096.3213\n",
            "Epoch 7/100\n",
            "24/24 [==============================] - 0s 5ms/step - loss: 32625576.0000 - mae: 4063.2988 - val_loss: 35683268.0000 - val_mae: 3924.8315\n",
            "Epoch 8/100\n",
            "24/24 [==============================] - 0s 4ms/step - loss: 31506256.0000 - mae: 3835.5916 - val_loss: 33375954.0000 - val_mae: 3932.5017\n",
            "Epoch 9/100\n",
            "24/24 [==============================] - 0s 4ms/step - loss: 31008758.0000 - mae: 3799.7429 - val_loss: 32938602.0000 - val_mae: 3755.2664\n",
            "Epoch 10/100\n",
            "24/24 [==============================] - 0s 4ms/step - loss: 30021646.0000 - mae: 3746.9946 - val_loss: 33071400.0000 - val_mae: 3673.3762\n",
            "Epoch 11/100\n",
            "24/24 [==============================] - 0s 4ms/step - loss: 29505342.0000 - mae: 3632.8979 - val_loss: 31931482.0000 - val_mae: 3679.3372\n",
            "Epoch 12/100\n",
            "24/24 [==============================] - 0s 4ms/step - loss: 28856132.0000 - mae: 3584.7375 - val_loss: 31650876.0000 - val_mae: 3622.5579\n",
            "Epoch 13/100\n",
            "24/24 [==============================] - 0s 4ms/step - loss: 28203744.0000 - mae: 3525.1279 - val_loss: 30899888.0000 - val_mae: 3653.2219\n",
            "Epoch 14/100\n",
            "24/24 [==============================] - 0s 4ms/step - loss: 27713544.0000 - mae: 3482.4934 - val_loss: 30530402.0000 - val_mae: 3592.7476\n",
            "Epoch 15/100\n",
            "24/24 [==============================] - 0s 4ms/step - loss: 27378720.0000 - mae: 3451.0544 - val_loss: 30112976.0000 - val_mae: 3589.6565\n",
            "Epoch 16/100\n",
            "24/24 [==============================] - 0s 5ms/step - loss: 26858298.0000 - mae: 3391.0354 - val_loss: 29804456.0000 - val_mae: 3458.8330\n",
            "Epoch 17/100\n",
            "24/24 [==============================] - 0s 4ms/step - loss: 26655938.0000 - mae: 3328.6560 - val_loss: 29060190.0000 - val_mae: 3572.0679\n",
            "Epoch 18/100\n",
            "24/24 [==============================] - 0s 5ms/step - loss: 26135732.0000 - mae: 3390.4363 - val_loss: 29458512.0000 - val_mae: 3355.7800\n",
            "Epoch 19/100\n",
            "24/24 [==============================] - 0s 4ms/step - loss: 25621446.0000 - mae: 3241.0581 - val_loss: 28365498.0000 - val_mae: 3570.3840\n",
            "Epoch 20/100\n",
            "24/24 [==============================] - 0s 4ms/step - loss: 25606320.0000 - mae: 3173.7009 - val_loss: 28163452.0000 - val_mae: 3252.4944\n",
            "Epoch 21/100\n",
            "24/24 [==============================] - 0s 4ms/step - loss: 25028208.0000 - mae: 3253.0869 - val_loss: 27806328.0000 - val_mae: 3511.4573\n",
            "Epoch 22/100\n",
            "24/24 [==============================] - 0s 4ms/step - loss: 24987432.0000 - mae: 3230.2290 - val_loss: 27603144.0000 - val_mae: 3223.3252\n",
            "Epoch 23/100\n",
            "24/24 [==============================] - 0s 4ms/step - loss: 24662908.0000 - mae: 3282.4182 - val_loss: 28341228.0000 - val_mae: 3134.0889\n",
            "Epoch 24/100\n",
            "24/24 [==============================] - 0s 4ms/step - loss: 24792956.0000 - mae: 3138.3086 - val_loss: 26825942.0000 - val_mae: 3281.2756\n",
            "Epoch 25/100\n",
            "24/24 [==============================] - 0s 5ms/step - loss: 24030000.0000 - mae: 3111.2483 - val_loss: 26469522.0000 - val_mae: 3281.2012\n",
            "Epoch 26/100\n",
            "24/24 [==============================] - 0s 4ms/step - loss: 24163128.0000 - mae: 3120.6985 - val_loss: 26417700.0000 - val_mae: 3104.8164\n",
            "Epoch 27/100\n",
            "24/24 [==============================] - 0s 5ms/step - loss: 23939856.0000 - mae: 3020.6455 - val_loss: 27616536.0000 - val_mae: 2994.1116\n",
            "Epoch 28/100\n",
            "24/24 [==============================] - 0s 4ms/step - loss: 23719928.0000 - mae: 3088.1855 - val_loss: 25879802.0000 - val_mae: 3201.0173\n",
            "Epoch 29/100\n",
            "24/24 [==============================] - 0s 4ms/step - loss: 23428044.0000 - mae: 3066.6606 - val_loss: 25683906.0000 - val_mae: 3110.1169\n",
            "Epoch 30/100\n",
            "24/24 [==============================] - 0s 4ms/step - loss: 23225490.0000 - mae: 3039.4529 - val_loss: 25340666.0000 - val_mae: 3163.7688\n",
            "Epoch 31/100\n",
            "24/24 [==============================] - 0s 4ms/step - loss: 23150828.0000 - mae: 3025.1465 - val_loss: 25442042.0000 - val_mae: 3009.4331\n",
            "Epoch 32/100\n",
            "24/24 [==============================] - 0s 4ms/step - loss: 23296042.0000 - mae: 3018.8779 - val_loss: 24938636.0000 - val_mae: 3126.9795\n",
            "Epoch 33/100\n",
            "24/24 [==============================] - 0s 4ms/step - loss: 22762038.0000 - mae: 3028.8362 - val_loss: 25452156.0000 - val_mae: 2990.5803\n",
            "Epoch 34/100\n",
            "24/24 [==============================] - 0s 4ms/step - loss: 22856606.0000 - mae: 2956.4067 - val_loss: 24467382.0000 - val_mae: 3189.1885\n",
            "Epoch 35/100\n",
            "24/24 [==============================] - 0s 4ms/step - loss: 23014176.0000 - mae: 2947.1125 - val_loss: 24602320.0000 - val_mae: 2920.4438\n",
            "Epoch 36/100\n",
            "24/24 [==============================] - 0s 4ms/step - loss: 22651532.0000 - mae: 2883.9441 - val_loss: 24510190.0000 - val_mae: 3029.1377\n",
            "Epoch 37/100\n",
            "24/24 [==============================] - 0s 4ms/step - loss: 22457320.0000 - mae: 3043.4473 - val_loss: 24421426.0000 - val_mae: 2969.1731\n",
            "Epoch 38/100\n",
            "24/24 [==============================] - 0s 4ms/step - loss: 22413326.0000 - mae: 2988.6479 - val_loss: 23988746.0000 - val_mae: 2938.7944\n",
            "Epoch 39/100\n",
            "24/24 [==============================] - 0s 5ms/step - loss: 22230512.0000 - mae: 2810.6497 - val_loss: 24265378.0000 - val_mae: 2845.0596\n",
            "Epoch 40/100\n",
            "24/24 [==============================] - 0s 5ms/step - loss: 22260408.0000 - mae: 2919.3530 - val_loss: 24294546.0000 - val_mae: 2940.4807\n",
            "Epoch 41/100\n",
            "24/24 [==============================] - 0s 8ms/step - loss: 21817770.0000 - mae: 2925.5625 - val_loss: 23516882.0000 - val_mae: 3030.3623\n",
            "Epoch 42/100\n",
            "24/24 [==============================] - 0s 4ms/step - loss: 21879160.0000 - mae: 2916.3394 - val_loss: 23838172.0000 - val_mae: 2796.3721\n",
            "Epoch 43/100\n",
            "24/24 [==============================] - 0s 4ms/step - loss: 21728556.0000 - mae: 2867.5627 - val_loss: 23780568.0000 - val_mae: 2867.6938\n",
            "Epoch 44/100\n",
            "24/24 [==============================] - 0s 4ms/step - loss: 21588710.0000 - mae: 2847.2551 - val_loss: 23494226.0000 - val_mae: 2973.6106\n",
            "Epoch 45/100\n",
            "24/24 [==============================] - 0s 4ms/step - loss: 21496048.0000 - mae: 2898.5979 - val_loss: 23194300.0000 - val_mae: 3018.6301\n",
            "Epoch 46/100\n",
            "24/24 [==============================] - 0s 5ms/step - loss: 21436796.0000 - mae: 2846.7212 - val_loss: 23147028.0000 - val_mae: 2990.3550\n",
            "Epoch 47/100\n",
            "24/24 [==============================] - 0s 6ms/step - loss: 21352306.0000 - mae: 2930.0183 - val_loss: 23673186.0000 - val_mae: 2721.5125\n",
            "Epoch 48/100\n",
            "24/24 [==============================] - 0s 6ms/step - loss: 21243102.0000 - mae: 2745.1926 - val_loss: 22987530.0000 - val_mae: 2944.3743\n",
            "Epoch 49/100\n",
            "24/24 [==============================] - 0s 4ms/step - loss: 21075198.0000 - mae: 2824.0889 - val_loss: 23302940.0000 - val_mae: 2866.5535\n",
            "Epoch 50/100\n",
            "24/24 [==============================] - 0s 4ms/step - loss: 21123664.0000 - mae: 2888.4229 - val_loss: 22741358.0000 - val_mae: 2805.5442\n",
            "Epoch 51/100\n",
            "24/24 [==============================] - 0s 8ms/step - loss: 20869228.0000 - mae: 2757.1719 - val_loss: 22743844.0000 - val_mae: 2692.2637\n",
            "Epoch 52/100\n",
            "24/24 [==============================] - 0s 4ms/step - loss: 20802556.0000 - mae: 2806.5525 - val_loss: 22682916.0000 - val_mae: 2946.1765\n",
            "Epoch 53/100\n",
            "24/24 [==============================] - 0s 4ms/step - loss: 21174040.0000 - mae: 2880.8352 - val_loss: 22811324.0000 - val_mae: 2853.6892\n",
            "Epoch 54/100\n",
            "24/24 [==============================] - 0s 4ms/step - loss: 20756286.0000 - mae: 2738.3206 - val_loss: 22442106.0000 - val_mae: 2821.5894\n",
            "Epoch 55/100\n",
            "24/24 [==============================] - 0s 4ms/step - loss: 20375116.0000 - mae: 2760.2732 - val_loss: 23260128.0000 - val_mae: 2690.8425\n",
            "Epoch 56/100\n",
            "24/24 [==============================] - 0s 4ms/step - loss: 20602666.0000 - mae: 2761.7771 - val_loss: 24736108.0000 - val_mae: 2543.5608\n",
            "Epoch 57/100\n",
            "24/24 [==============================] - 0s 4ms/step - loss: 20966962.0000 - mae: 2762.4802 - val_loss: 23575004.0000 - val_mae: 2703.7397\n",
            "Epoch 58/100\n",
            "24/24 [==============================] - 0s 4ms/step - loss: 20287734.0000 - mae: 2844.5452 - val_loss: 22344398.0000 - val_mae: 2880.7529\n",
            "Epoch 59/100\n",
            "24/24 [==============================] - 0s 4ms/step - loss: 20537364.0000 - mae: 2711.2576 - val_loss: 22467844.0000 - val_mae: 2576.3635\n",
            "Epoch 60/100\n",
            "24/24 [==============================] - 0s 4ms/step - loss: 20142042.0000 - mae: 2760.8752 - val_loss: 22294402.0000 - val_mae: 2702.9009\n",
            "Epoch 61/100\n",
            "24/24 [==============================] - 0s 4ms/step - loss: 19893404.0000 - mae: 2618.0967 - val_loss: 22387162.0000 - val_mae: 2933.7021\n",
            "Epoch 62/100\n",
            "24/24 [==============================] - 0s 4ms/step - loss: 19963690.0000 - mae: 2749.2053 - val_loss: 22150544.0000 - val_mae: 2749.0398\n",
            "Epoch 63/100\n",
            "24/24 [==============================] - 0s 4ms/step - loss: 20000612.0000 - mae: 2730.6465 - val_loss: 22142556.0000 - val_mae: 2876.2439\n",
            "Epoch 64/100\n",
            "24/24 [==============================] - 0s 4ms/step - loss: 20355124.0000 - mae: 2752.2681 - val_loss: 22383614.0000 - val_mae: 2837.4028\n",
            "Epoch 65/100\n",
            "24/24 [==============================] - 0s 4ms/step - loss: 19847040.0000 - mae: 2761.3042 - val_loss: 23299960.0000 - val_mae: 2619.1121\n",
            "Epoch 66/100\n",
            "24/24 [==============================] - 0s 5ms/step - loss: 19689586.0000 - mae: 2727.3499 - val_loss: 22384668.0000 - val_mae: 2705.6416\n",
            "Epoch 67/100\n",
            "24/24 [==============================] - 0s 6ms/step - loss: 19675460.0000 - mae: 2667.8616 - val_loss: 22266948.0000 - val_mae: 2608.0442\n",
            "Epoch 68/100\n",
            "24/24 [==============================] - 0s 5ms/step - loss: 19667632.0000 - mae: 2709.0771 - val_loss: 22532654.0000 - val_mae: 2841.2981\n",
            "Epoch 69/100\n",
            "24/24 [==============================] - 0s 5ms/step - loss: 19426242.0000 - mae: 2670.0950 - val_loss: 22859220.0000 - val_mae: 2526.0044\n",
            "Epoch 70/100\n",
            "24/24 [==============================] - 0s 6ms/step - loss: 19480184.0000 - mae: 2784.3826 - val_loss: 23208478.0000 - val_mae: 2566.6650\n",
            "Epoch 71/100\n",
            "24/24 [==============================] - 0s 6ms/step - loss: 19509634.0000 - mae: 2628.9277 - val_loss: 22380022.0000 - val_mae: 2689.4080\n",
            "Epoch 72/100\n",
            "24/24 [==============================] - 0s 5ms/step - loss: 19368478.0000 - mae: 2794.9299 - val_loss: 22925362.0000 - val_mae: 2604.1807\n",
            "Epoch 73/100\n",
            "24/24 [==============================] - 0s 8ms/step - loss: 19339610.0000 - mae: 2679.3855 - val_loss: 22505340.0000 - val_mae: 2743.6455\n",
            "Epoch 74/100\n",
            "24/24 [==============================] - 0s 5ms/step - loss: 19463356.0000 - mae: 2692.2104 - val_loss: 22632970.0000 - val_mae: 2581.8743\n",
            "Epoch 75/100\n",
            "24/24 [==============================] - 0s 5ms/step - loss: 19334120.0000 - mae: 2643.2625 - val_loss: 22315320.0000 - val_mae: 2727.3901\n",
            "Epoch 76/100\n",
            "24/24 [==============================] - 0s 5ms/step - loss: 19050978.0000 - mae: 2673.4104 - val_loss: 22744730.0000 - val_mae: 2643.8071\n",
            "Epoch 77/100\n",
            "24/24 [==============================] - 0s 4ms/step - loss: 19487022.0000 - mae: 2754.4004 - val_loss: 22728558.0000 - val_mae: 2637.1755\n",
            "Epoch 78/100\n",
            "24/24 [==============================] - 0s 5ms/step - loss: 19088556.0000 - mae: 2612.3069 - val_loss: 22321790.0000 - val_mae: 2772.3948\n",
            "Epoch 79/100\n",
            "24/24 [==============================] - 0s 4ms/step - loss: 19072592.0000 - mae: 2694.8572 - val_loss: 22888606.0000 - val_mae: 2602.6462\n",
            "Epoch 80/100\n",
            "24/24 [==============================] - 0s 4ms/step - loss: 19070950.0000 - mae: 2657.4124 - val_loss: 22448714.0000 - val_mae: 2564.3430\n",
            "Epoch 81/100\n",
            "24/24 [==============================] - 0s 6ms/step - loss: 18827890.0000 - mae: 2622.6919 - val_loss: 22359060.0000 - val_mae: 2875.3171\n",
            "Epoch 82/100\n",
            "24/24 [==============================] - 0s 5ms/step - loss: 18667132.0000 - mae: 2609.0808 - val_loss: 22731850.0000 - val_mae: 2562.6907\n",
            "Epoch 83/100\n",
            "24/24 [==============================] - 0s 8ms/step - loss: 18776686.0000 - mae: 2724.9377 - val_loss: 22272150.0000 - val_mae: 2763.2830\n",
            "Epoch 84/100\n",
            "24/24 [==============================] - 0s 4ms/step - loss: 18674616.0000 - mae: 2587.2388 - val_loss: 22684206.0000 - val_mae: 2655.3843\n",
            "Epoch 85/100\n",
            "24/24 [==============================] - 0s 4ms/step - loss: 18749116.0000 - mae: 2694.1565 - val_loss: 22357100.0000 - val_mae: 2784.0862\n",
            "Epoch 86/100\n",
            "24/24 [==============================] - 0s 4ms/step - loss: 18623486.0000 - mae: 2675.4116 - val_loss: 22733114.0000 - val_mae: 2604.6812\n",
            "Epoch 87/100\n",
            "24/24 [==============================] - 0s 4ms/step - loss: 18844526.0000 - mae: 2620.9314 - val_loss: 22615992.0000 - val_mae: 2705.3271\n",
            "Epoch 88/100\n",
            "24/24 [==============================] - 0s 4ms/step - loss: 18670760.0000 - mae: 2612.4272 - val_loss: 22457228.0000 - val_mae: 2757.1387\n",
            "Epoch 89/100\n",
            "24/24 [==============================] - 0s 5ms/step - loss: 18519932.0000 - mae: 2582.9966 - val_loss: 22488916.0000 - val_mae: 2710.1304\n",
            "Epoch 90/100\n",
            "24/24 [==============================] - 0s 4ms/step - loss: 18429450.0000 - mae: 2609.2808 - val_loss: 22227258.0000 - val_mae: 2667.3604\n",
            "Epoch 91/100\n",
            "24/24 [==============================] - 0s 4ms/step - loss: 18246814.0000 - mae: 2628.1572 - val_loss: 22991670.0000 - val_mae: 2624.2607\n",
            "Epoch 92/100\n",
            "24/24 [==============================] - 0s 4ms/step - loss: 18539030.0000 - mae: 2653.5984 - val_loss: 22498870.0000 - val_mae: 2613.1343\n",
            "Epoch 93/100\n",
            "24/24 [==============================] - 0s 4ms/step - loss: 18243860.0000 - mae: 2692.5649 - val_loss: 25251810.0000 - val_mae: 2687.7725\n",
            "Epoch 94/100\n",
            "24/24 [==============================] - 0s 4ms/step - loss: 18950328.0000 - mae: 2657.5898 - val_loss: 22715806.0000 - val_mae: 2542.8281\n",
            "Epoch 95/100\n",
            "24/24 [==============================] - 0s 4ms/step - loss: 18235142.0000 - mae: 2503.5518 - val_loss: 22557030.0000 - val_mae: 2900.8823\n",
            "Epoch 96/100\n",
            "24/24 [==============================] - 0s 4ms/step - loss: 18336042.0000 - mae: 2697.4082 - val_loss: 22870108.0000 - val_mae: 2642.7656\n",
            "Epoch 97/100\n",
            "24/24 [==============================] - 0s 4ms/step - loss: 17984360.0000 - mae: 2609.4956 - val_loss: 23051804.0000 - val_mae: 2585.2439\n",
            "Epoch 98/100\n",
            "24/24 [==============================] - 0s 4ms/step - loss: 18030898.0000 - mae: 2543.0950 - val_loss: 22482576.0000 - val_mae: 2694.6353\n",
            "Epoch 99/100\n",
            "24/24 [==============================] - 0s 4ms/step - loss: 18273108.0000 - mae: 2641.9519 - val_loss: 22449930.0000 - val_mae: 2813.0867\n",
            "Epoch 100/100\n",
            "24/24 [==============================] - 0s 4ms/step - loss: 18006544.0000 - mae: 2574.4756 - val_loss: 22470286.0000 - val_mae: 2717.2117\n",
            "13/13 [==============================] - 0s 1ms/step\n"
          ]
        }
      ],
      "source": [
        "import tensorflow as tf\n",
        "\n",
        "# Cria o modelo de rede neural\n",
        "# aqui devemos definir ao menos a quantidade de camadas, a quantidade de neuronios, o tipo de ativacao ...\n",
        "model_rn = tf.keras.models.Sequential([\n",
        "    tf.keras.layers.Dense(428, activation='relu', input_shape=[X_train_scaled.shape[1]]),\n",
        "    tf.keras.layers.Dense(364, activation='relu',),\n",
        "    tf.keras.layers.Dense(166, activation='relu',),\n",
        "     tf.keras.layers.Dense(66, activation='relu',),\n",
        "    tf.keras.layers.Dense(1)\n",
        "])\n",
        "\n",
        "# Compila o modelo\n",
        "model_rn.compile(optimizer='adam', loss='mean_squared_error', metrics=['mae'])\n",
        "\n",
        "# Treina o modelo\n",
        "historico_epochs = model_rn.fit(X_train_scaled, y_train, epochs=100, validation_split=0.2)\n",
        "\n",
        "# Fazendo as predições\n",
        "y_pr = model_rn.predict(X_test_scaled)"
      ]
    },
    {
      "cell_type": "code",
      "execution_count": 89,
      "metadata": {
        "colab": {
          "base_uri": "https://localhost:8080/",
          "height": 636
        },
        "id": "XNbG97hqDOkB",
        "outputId": "3c090bd5-b41a-4efb-d0ef-29aa6c891bb3"
      },
      "outputs": [
        {
          "name": "stdout",
          "output_type": "stream",
          "text": [
            "<class 'pandas.core.frame.DataFrame'>\n",
            "RangeIndex: 100 entries, 0 to 99\n",
            "Data columns (total 4 columns):\n",
            " #   Column    Non-Null Count  Dtype  \n",
            "---  ------    --------------  -----  \n",
            " 0   loss      100 non-null    float64\n",
            " 1   mae       100 non-null    float64\n",
            " 2   val_loss  100 non-null    float64\n",
            " 3   val_mae   100 non-null    float64\n",
            "dtypes: float64(4)\n",
            "memory usage: 3.3 KB\n"
          ]
        },
        {
          "data": {
            "image/png": "[encoded data removed]",
            "text/plain": [
              "<Figure size 640x480 with 1 Axes>"
            ]
          },
          "metadata": {},
          "output_type": "display_data"
        }
      ],
      "source": [
        "df_historico = pd.DataFrame(historico_epochs.history)\n",
        "df_historico.info()\n",
        "\n",
        "df_historico[['loss','val_loss']].plot()\n",
        "plt.show();\n"
      ]
    },
    {
      "cell_type": "code",
      "execution_count": 90,
      "metadata": {
        "colab": {
          "base_uri": "https://localhost:8080/"
        },
        "id": "PildkNoCCpOY",
        "outputId": "b0138297-67dc-410f-c7f7-7e4c07dfc12b"
      },
      "outputs": [
        {
          "name": "stdout",
          "output_type": "stream",
          "text": [
            "30/30 [==============================] - 0s 2ms/step\n",
            "MSE do TREINO (rede neural):  18561716.552424382\n",
            "MSE do TESTE (rede neural):  25532248.57449349\n",
            "MAE do TREINO (rede neural):  2629.8238438205008\n",
            "MAE do TESTE (rede neural):  3005.7054933098184\n",
            "R² do TREINO (rede neural):  0.8633064183858128\n",
            "R² do TESTE (rede neural):  0.8507913157811438\n"
          ]
        }
      ],
      "source": [
        "# Metricas para regressão linear\n",
        "metricas(X_train_scaled, y_train, y_test, y_pr, model_rn, \"rede neural\")"
      ]
    },
    {
      "cell_type": "markdown",
      "metadata": {},
      "source": [
        "### Salvando o modelo treinado"
      ]
    },
    {
      "cell_type": "code",
      "execution_count": 91,
      "metadata": {},
      "outputs": [
        {
          "name": "stdout",
          "output_type": "stream",
          "text": [
            "INFO:tensorflow:Assets written to: model_rn_saved/assets\n"
          ]
        },
        {
          "name": "stderr",
          "output_type": "stream",
          "text": [
            "INFO:tensorflow:Assets written to: model_rn_saved/assets\n"
          ]
        }
      ],
      "source": [
        "model_rn.save(\"model_rn_saved/\")"
      ]
    }
  ],
  "metadata": {
    "colab": {
      "provenance": []
    },
    "kernelspec": {
      "display_name": "Python 3",
      "name": "python3"
    },
    "language_info": {
      "codemirror_mode": {
        "name": "ipython",
        "version": 3
      },
      "file_extension": ".py",
      "mimetype": "text/x-python",
      "name": "python",
      "nbconvert_exporter": "python",
      "pygments_lexer": "ipython3",
      "version": "3.11.8"
    }
  },
  "nbformat": 4,
  "nbformat_minor": 0
}
